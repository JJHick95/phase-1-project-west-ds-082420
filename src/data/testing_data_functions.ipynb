{
 "cells": [
  {
   "cell_type": "code",
   "execution_count": 52,
   "metadata": {},
   "outputs": [],
   "source": [
    "import psycopg2\n",
    "import pandas as pd\n",
    "import matplotlib.pyplot as plt\n",
    "DBNAME = \"opportunity_youth\"\n",
    "conn = psycopg2.connect(dbname=DBNAME)\n",
    "\n",
    "\n",
    "\n"
   ]
  },
  {
   "cell_type": "code",
   "execution_count": 68,
   "metadata": {},
   "outputs": [
    {
     "data": {
      "text/plain": [
       "11705"
      ]
     },
     "execution_count": 68,
     "metadata": {},
     "output_type": "execute_result"
    }
   ],
   "source": [
    "def get_oy_db():\n",
    "    #fetching oportunity youth in south king county\n",
    "    skc_OY_df = pd.read_sql('''\n",
    "        SELECT *\n",
    "        FROM pums_2017\n",
    "        WHERE puma SIMILAR TO '1161(0|1|2|3|4|5)'\n",
    "        AND agep >= 16\n",
    "        AND agep <= 24\n",
    "        AND sch = '1'\n",
    "        AND esr SIMILAR TO '%(3|6)%'\n",
    "        ''', conn)\n",
    "    \n",
    "    return skc_OY_df\n",
    "\n",
    "def get_all_youth_db():\n",
    "    #fetching all residents from south king county within the OY age group\n",
    "\n",
    "    skc_allRes_df = pd.read_sql('''\n",
    "        SELECT *\n",
    "        FROM pums_2017\n",
    "        WHERE puma SIMILAR TO '1161(0|1|2|3|4|5)'\n",
    "        AND agep >= 16\n",
    "        AND agep <= 24\n",
    "        ''', conn)\n",
    "    \n",
    "    return skc_allRes_df\n",
    "\n",
    "def get_oy_2016_db():\n",
    "    csv_file_name = 'ss16pwa.csv'\n",
    "    oy_2016_df = pd.read_csv(csv_file_name)\n",
    "    puma_mask = oy_2016_df['PUMA'].isin(['11610', '11611', '11612', '11613', '11614', '11615'])\n",
    "    oy_2016_df = oy_2016_df.loc[puma_mask]\n",
    "    oy_mask = (oy_2016_df['AGEP'] >= 16) & (oy_2016_df['AGEP'] <= 24) & (oy_2016_df['SCH'].isin(['1'])) & (oy_2016_df['ESR'].isin(['3', '6']))\n",
    "    oy_2016_df = oy_2016_df.loc[oy_mask]\n",
    "    return oy_2016_df\n"
   ]
  },
  {
   "cell_type": "markdown",
   "metadata": {},
   "source": [
    "<b> \n",
    "    - break down OY by race\n",
    "    - break down OY by pumsID\n",
    "    - break down total youth by race\n",
    "    - break down total youth by pumsID"
   ]
  },
  {
   "cell_type": "code",
   "execution_count": 48,
   "metadata": {},
   "outputs": [
    {
     "data": {
      "text/plain": [
       "{'White': 5269.0,\n",
       " 'Black/ African American': 1315.0,\n",
       " 'American Indian or Alaska Native': 347.0,\n",
       " 'Asian': 1189.0,\n",
       " 'Native Hawaian/ Paciffic Islander': 373.0,\n",
       " 'Other': 965.0,\n",
       " 'Two or More Races': 1156.0}"
      ]
     },
     "execution_count": 48,
     "metadata": {},
     "output_type": "execute_result"
    }
   ],
   "source": [
    "def get_skc_oy_race():\n",
    "    '''\n",
    "    returns a dictionary with race names as keys and their coresponding pop_count as values for skc opportunity youth\n",
    "    '''\n",
    "    \n",
    "    \n",
    "    race_dict = {'1': 'White', '2': 'Black/ African American',\n",
    "                 '3': 'American Indian or Alaska Native', '4': 'American Indian or Alaska Native',\n",
    "                 '5': 'American Indian or Alaska Native', '6': 'Asian', '7': 'Native Hawaian/ Paciffic Islander',\n",
    "                 '8': 'Other', '9': 'Two or More Races'}\n",
    "    race_breakdown = skc_OY_df.groupby(by='rac1p').sum()['pwgtp']\n",
    "    out_dict = {}\n",
    "    for index in race_breakdown.index:\n",
    "        if index in ['4', '5']:\n",
    "            out_dict[race_dict[index]] += race_breakdown[index]\n",
    "        else:\n",
    "            out_dict[race_dict[index]] = race_breakdown[index]\n",
    "    return out_dict\n",
    "\n",
    "get_skc_oy_race()"
   ]
  },
  {
   "cell_type": "code",
   "execution_count": 49,
   "metadata": {},
   "outputs": [
    {
     "data": {
      "text/plain": [
       "{'White': 45663.0,\n",
       " 'Black/ African American': 8920.0,\n",
       " 'American Indian or Alaska Native': 961.0,\n",
       " 'Asian': 13328.0,\n",
       " 'Native Hawaian/ Paciffic Islander': 1877.0,\n",
       " 'Other': 7298.0,\n",
       " 'Two or More Races': 7836.0}"
      ]
     },
     "execution_count": 49,
     "metadata": {},
     "output_type": "execute_result"
    }
   ],
   "source": [
    "def get_skc_all_youth_race():\n",
    "    '''\n",
    "    returns a dictionary with race names as keys and their coresponding pop_count as values for all skc youth\n",
    "    '''\n",
    "    \n",
    "    \n",
    "    race_dict = {'1': 'White', '2': 'Black/ African American',\n",
    "                 '3': 'American Indian or Alaska Native', '4': 'American Indian or Alaska Native',\n",
    "                 '5': 'American Indian or Alaska Native', '6': 'Asian', '7': 'Native Hawaian/ Paciffic Islander',\n",
    "                 '8': 'Other', '9': 'Two or More Races'}\n",
    "    race_breakdown = skc_allRes_df.groupby(by='rac1p').sum()['pwgtp']\n",
    "    out_dict = {}\n",
    "    for index in race_breakdown.index:\n",
    "        if index in ['4', '5']:\n",
    "            out_dict[race_dict[index]] += race_breakdown[index]\n",
    "        else:\n",
    "            out_dict[race_dict[index]] = race_breakdown[index]\n",
    "    return out_dict\n",
    "\n",
    "get_skc_all_youth_race()"
   ]
  },
  {
   "cell_type": "code",
   "execution_count": 69,
   "metadata": {},
   "outputs": [
    {
     "data": {
      "text/plain": [
       "{'11610': 14043.0,\n",
       " '11611': 13924.0,\n",
       " '11612': 15244.0,\n",
       " '11613': 16421.0,\n",
       " '11614': 14316.0,\n",
       " '11615': 11935.0}"
      ]
     },
     "execution_count": 69,
     "metadata": {},
     "output_type": "execute_result"
    }
   ],
   "source": [
    "def get_pums_youth_count():\n",
    "    '''\n",
    "    returns a dictionary with puma ID number as keys and their corresponding total youth count as values\n",
    "    '''\n",
    "    skc_all_youth_df = get_all_youth_db()\n",
    "    \n",
    "    puma_breakdown = skc_all_youth_df.groupby(by='puma').sum()['pwgtp']\n",
    "    return puma_breakdown.to_dict()\n",
    "    \n",
    "get_pums_youth_count()"
   ]
  },
  {
   "cell_type": "code",
   "execution_count": 70,
   "metadata": {},
   "outputs": [
    {
     "data": {
      "text/plain": [
       "{'11610': 1853.0,\n",
       " '11611': 2038.0,\n",
       " '11612': 1977.0,\n",
       " '11613': 2006.0,\n",
       " '11614': 1530.0,\n",
       " '11615': 1210.0}"
      ]
     },
     "execution_count": 70,
     "metadata": {},
     "output_type": "execute_result"
    }
   ],
   "source": [
    "def get_pums_oy_count():\n",
    "    '''\n",
    "    returns a dictionary with puma ID number as keys and their corresponding opportunity youth count as values\n",
    "    '''\n",
    "    \n",
    "    skc_oy_df = get_oy_db()\n",
    "    \n",
    "    puma_breakdown = skc_oy_df.groupby(by='puma').sum()['pwgtp']\n",
    "    return puma_breakdown.to_dict()\n",
    "\n",
    "get_pums_oy_count()"
   ]
  },
  {
   "cell_type": "code",
   "execution_count": 71,
   "metadata": {},
   "outputs": [
    {
     "data": {
      "text/plain": [
       "{'11610': 13.2,\n",
       " '11611': 14.6,\n",
       " '11612': 13.0,\n",
       " '11613': 12.2,\n",
       " '11614': 10.7,\n",
       " '11615': 10.1}"
      ]
     },
     "execution_count": 71,
     "metadata": {},
     "output_type": "execute_result"
    }
   ],
   "source": [
    "def get_puma_oy_percentages():\n",
    "    '''\n",
    "    returns a dictionary with puma ID number as keys and percentage of OY in their population as values\n",
    "    '''\n",
    "    \n",
    "    puma_oy_breakdown = get_pums_oy_count()\n",
    "    puma_total_breakdown = get_pums_youth_count()\n",
    "    puma_percentages = {}\n",
    "    for key in puma_oy_breakdown.keys():\n",
    "        puma_percentages[key] = round((puma_oy_breakdown[key]/puma_total_breakdown[key]) * 100, 1)\n",
    "    \n",
    "    return puma_percentages\n",
    "\n",
    "get_puma_oy_percentages()"
   ]
  },
  {
   "cell_type": "code",
   "execution_count": null,
   "metadata": {},
   "outputs": [],
   "source": []
  }
 ],
 "metadata": {
  "kernelspec": {
   "display_name": "Python 3 (oy-env)",
   "language": "python",
   "name": "oy-env"
  },
  "language_info": {
   "codemirror_mode": {
    "name": "ipython",
    "version": 3
   },
   "file_extension": ".py",
   "mimetype": "text/x-python",
   "name": "python",
   "nbconvert_exporter": "python",
   "pygments_lexer": "ipython3",
   "version": "3.8.1"
  }
 },
 "nbformat": 4,
 "nbformat_minor": 4
}
