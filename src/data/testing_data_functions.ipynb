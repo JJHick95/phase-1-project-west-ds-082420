{
 "cells": [
  {
   "cell_type": "code",
   "execution_count": 1,
   "metadata": {},
   "outputs": [],
   "source": [
    "import psycopg2\n",
    "import pandas as pd\n",
    "import matplotlib.pyplot as plt\n",
    "DBNAME = \"opportunity_youth\"\n",
    "conn = psycopg2.connect(dbname=DBNAME)\n",
    "\n",
    "import clean_data_functions as cdf"
   ]
  },
  {
   "cell_type": "code",
   "execution_count": 28,
   "metadata": {},
   "outputs": [],
   "source": [
    "def get_oy_db():\n",
    "    #fetching oportunity youth in south king county\n",
    "    skc_OY_df = pd.read_sql('''\n",
    "        SELECT *\n",
    "        FROM pums_2017\n",
    "        WHERE puma SIMILAR TO '1161(0|1|2|3|4|5)'\n",
    "        AND agep >= 16\n",
    "        AND agep <= 24\n",
    "        AND sch = '1'\n",
    "        AND esr SIMILAR TO '%(3|6)%'\n",
    "        ''', conn)\n",
    "    \n",
    "    return skc_OY_df\n",
    "\n",
    "def get_all_youth_db():\n",
    "    #fetching all residents from south king county within the OY age group\n",
    "\n",
    "    skc_allRes_df = pd.read_sql('''\n",
    "        SELECT *\n",
    "        FROM pums_2017\n",
    "        WHERE puma SIMILAR TO '1161(0|1|2|3|4|5)'\n",
    "        AND agep >= 16\n",
    "        AND agep <= 24\n",
    "        ''', conn)\n",
    "    \n",
    "    return skc_allRes_df"
   ]
  },
  {
   "cell_type": "markdown",
   "metadata": {},
   "source": [
    "<b> \n",
    "    - break down OY by race\n",
    "    - break down OY by pumsID\n",
    "    - break down total youth by race\n",
    "    - break down total youth by pumsID"
   ]
  },
  {
   "cell_type": "code",
   "execution_count": 21,
   "metadata": {},
   "outputs": [
    {
     "data": {
      "text/plain": [
       "{'White': 5269.0,\n",
       " 'Black/ African American': 1315.0,\n",
       " 'American Indian or Alaska Native': 347.0,\n",
       " 'Asian': 1189.0,\n",
       " 'Native Hawaian/ Paciffic Islander': 373.0,\n",
       " 'Other': 965.0,\n",
       " 'Two or More Races': 1156.0}"
      ]
     },
     "execution_count": 21,
     "metadata": {},
     "output_type": "execute_result"
    }
   ],
   "source": [
    "def get_skc_oy_race():\n",
    "    '''\n",
    "    returns a dictionary with race names as keys and their coresponding pop_count as values for skc opportunity youth\n",
    "    '''\n",
    "    \n",
    "    \n",
    "    race_dict = {'1': 'White', '2': 'Black/ African American',\n",
    "                 '3': 'American Indian or Alaska Native', '4': 'American Indian or Alaska Native',\n",
    "                 '5': 'American Indian or Alaska Native', '6': 'Asian', '7': 'Native Hawaian/ Paciffic Islander',\n",
    "                 '8': 'Other', '9': 'Two or More Races'}\n",
    "    race_breakdown = skc_OY_df.groupby(by='rac1p').sum()['pwgtp']\n",
    "    out_dict = {}\n",
    "    for index in race_breakdown.index:\n",
    "        if index in ['4', '5']:\n",
    "            out_dict[race_dict[index]] += race_breakdown[index]\n",
    "        else:\n",
    "            out_dict[race_dict[index]] = race_breakdown[index]\n",
    "    return out_dict\n",
    "\n",
    "get_skc_oy_race()"
   ]
  },
  {
   "cell_type": "code",
   "execution_count": 27,
   "metadata": {},
   "outputs": [
    {
     "data": {
      "text/plain": [
       "{'White': 45663.0,\n",
       " 'Black/ African American': 8920.0,\n",
       " 'American Indian or Alaska Native': 961.0,\n",
       " 'Asian': 13328.0,\n",
       " 'Native Hawaian/ Paciffic Islander': 1877.0,\n",
       " 'Other': 7298.0,\n",
       " 'Two or More Races': 7836.0}"
      ]
     },
     "execution_count": 27,
     "metadata": {},
     "output_type": "execute_result"
    }
   ],
   "source": [
    "def get_skc_all_youth_race():\n",
    "    '''\n",
    "    returns a dictionary with race names as keys and their coresponding pop_count as values for all skc youth\n",
    "    '''\n",
    "    \n",
    "    \n",
    "    race_dict = {'1': 'White', '2': 'Black/ African American',\n",
    "                 '3': 'American Indian or Alaska Native', '4': 'American Indian or Alaska Native',\n",
    "                 '5': 'American Indian or Alaska Native', '6': 'Asian', '7': 'Native Hawaian/ Paciffic Islander',\n",
    "                 '8': 'Other', '9': 'Two or More Races'}\n",
    "    race_breakdown = skc_allRes_df.groupby(by='rac1p').sum()['pwgtp']\n",
    "    out_dict = {}\n",
    "    for index in race_breakdown.index:\n",
    "        if index in ['4', '5']:\n",
    "            out_dict[race_dict[index]] += race_breakdown[index]\n",
    "        else:\n",
    "            out_dict[race_dict[index]] = race_breakdown[index]\n",
    "    return out_dict\n",
    "\n",
    "get_skc_all_youth_race()"
   ]
  },
  {
   "cell_type": "code",
   "execution_count": 45,
   "metadata": {},
   "outputs": [
    {
     "data": {
      "text/html": [
       "<div>\n",
       "<style scoped>\n",
       "    .dataframe tbody tr th:only-of-type {\n",
       "        vertical-align: middle;\n",
       "    }\n",
       "\n",
       "    .dataframe tbody tr th {\n",
       "        vertical-align: top;\n",
       "    }\n",
       "\n",
       "    .dataframe thead th {\n",
       "        text-align: right;\n",
       "    }\n",
       "</style>\n",
       "<table border=\"1\" class=\"dataframe\">\n",
       "  <thead>\n",
       "    <tr style=\"text-align: right;\">\n",
       "      <th></th>\n",
       "      <th>puma_name</th>\n",
       "      <th>pwgtp</th>\n",
       "    </tr>\n",
       "  </thead>\n",
       "  <tbody>\n",
       "    <tr>\n",
       "      <th>11610</th>\n",
       "      <td>King County (Central)--Renton City, Fairwood, ...</td>\n",
       "      <td>14043.0</td>\n",
       "    </tr>\n",
       "    <tr>\n",
       "      <th>11613</th>\n",
       "      <td>King County (Southwest Central)--Kent City    ...</td>\n",
       "      <td>16421.0</td>\n",
       "    </tr>\n",
       "    <tr>\n",
       "      <th>11614</th>\n",
       "      <td>King County (Southwest)--Auburn City &amp; Lakelan...</td>\n",
       "      <td>14316.0</td>\n",
       "    </tr>\n",
       "    <tr>\n",
       "      <th>11615</th>\n",
       "      <td>King County (Southeast)--Maple Valley, Covingt...</td>\n",
       "      <td>11935.0</td>\n",
       "    </tr>\n",
       "    <tr>\n",
       "      <th>11611</th>\n",
       "      <td>King County (West Central)--Burien, SeaTac, Tu...</td>\n",
       "      <td>13924.0</td>\n",
       "    </tr>\n",
       "    <tr>\n",
       "      <th>11612</th>\n",
       "      <td>King County (Far Southwest)--Federal Way, Des ...</td>\n",
       "      <td>15244.0</td>\n",
       "    </tr>\n",
       "  </tbody>\n",
       "</table>\n",
       "</div>"
      ],
      "text/plain": [
       "                                               puma_name    pwgtp\n",
       "11610  King County (Central)--Renton City, Fairwood, ...  14043.0\n",
       "11613  King County (Southwest Central)--Kent City    ...  16421.0\n",
       "11614  King County (Southwest)--Auburn City & Lakelan...  14316.0\n",
       "11615  King County (Southeast)--Maple Valley, Covingt...  11935.0\n",
       "11611  King County (West Central)--Burien, SeaTac, Tu...  13924.0\n",
       "11612  King County (Far Southwest)--Federal Way, Des ...  15244.0"
      ]
     },
     "execution_count": 45,
     "metadata": {},
     "output_type": "execute_result"
    }
   ],
   "source": [
    "def get_pums_youth_count():\n",
    "    '''\n",
    "    returns a dictionary with puma ID number as keys and their corresponding total youth count as values\n",
    "    '''\n",
    "    skc_all_youth_df = get_all_youth_db()\n",
    "    \n",
    "    puma_breakdown = skc_all_youth_df.groupby(by='puma').sum()['pwgtp']\n",
    "    puma_names = pd.read_sql('''\n",
    "            SELECT *\n",
    "            FROM puma_names_2010\n",
    "            WHERE puma SIMILAR TO '1161(0|1|2|3|4|5)'\n",
    "            ''', conn)\n",
    "    return pd.concat([puma_names.set_index('puma')[['puma_name']], puma_breakdown], axis = 1)\n",
    "    \n",
    "get_pums_youth_count()"
   ]
  },
  {
   "cell_type": "code",
   "execution_count": 37,
   "metadata": {},
   "outputs": [
    {
     "data": {
      "text/plain": [
       "puma\n",
       "11610    1853.0\n",
       "11611    2038.0\n",
       "11612    1977.0\n",
       "11613    2006.0\n",
       "11614    1530.0\n",
       "11615    1210.0\n",
       "Name: pwgtp, dtype: float64"
      ]
     },
     "execution_count": 37,
     "metadata": {},
     "output_type": "execute_result"
    }
   ],
   "source": [
    "def get_pums_oy_count():\n",
    "    '''\n",
    "    returns a dictionary with puma ID number as keys and their corresponding opportunity youth count as values\n",
    "    '''\n",
    "    skc_oy_df = get_oy_db()\n",
    "    \n",
    "    puma_breakdown = skc_oy_df.groupby(by='puma').sum()['pwgtp']\n",
    "    return puma_breakdown\n",
    "\n",
    "get_pums_oy_count()"
   ]
  },
  {
   "cell_type": "code",
   "execution_count": null,
   "metadata": {},
   "outputs": [],
   "source": []
  }
 ],
 "metadata": {
  "kernelspec": {
   "display_name": "Python 3 (oy-env)",
   "language": "python",
   "name": "oy-env"
  },
  "language_info": {
   "codemirror_mode": {
    "name": "ipython",
    "version": 3
   },
   "file_extension": ".py",
   "mimetype": "text/x-python",
   "name": "python",
   "nbconvert_exporter": "python",
   "pygments_lexer": "ipython3",
   "version": "3.8.1"
  }
 },
 "nbformat": 4,
 "nbformat_minor": 4
}
