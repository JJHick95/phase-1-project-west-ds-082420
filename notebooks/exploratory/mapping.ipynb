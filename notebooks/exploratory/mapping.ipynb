{
 "cells": [
  {
   "cell_type": "code",
   "execution_count": 5,
   "metadata": {},
   "outputs": [],
   "source": [
    "# conn.close()"
   ]
  },
  {
   "cell_type": "code",
   "execution_count": 1,
   "metadata": {},
   "outputs": [],
   "source": [
    "import psycopg2\n",
    "import pandas as pd\n",
    "import geopandas as gpd\n",
    "import matplotlib.pyplot as plt"
   ]
  },
  {
   "cell_type": "code",
   "execution_count": 2,
   "metadata": {},
   "outputs": [],
   "source": [
    "import pyproj"
   ]
  },
  {
   "cell_type": "code",
   "execution_count": 3,
   "metadata": {},
   "outputs": [],
   "source": [
    "import folium"
   ]
  },
  {
   "cell_type": "code",
   "execution_count": 4,
   "metadata": {},
   "outputs": [],
   "source": [
    "import clean_data_functions as cdf"
   ]
  },
  {
   "cell_type": "code",
   "execution_count": 5,
   "metadata": {},
   "outputs": [],
   "source": [
    "DBNAME = \"opportunity_youth\""
   ]
  },
  {
   "cell_type": "code",
   "execution_count": 6,
   "metadata": {},
   "outputs": [],
   "source": [
    "conn = psycopg2.connect(dbname=DBNAME)"
   ]
  },
  {
   "cell_type": "code",
   "execution_count": 7,
   "metadata": {},
   "outputs": [],
   "source": [
    "#reproduce provided table\n",
    "pd.read_sql(\"SELECT * FROM pums_2017 LIMIT 10;\", conn);"
   ]
  },
  {
   "cell_type": "code",
   "execution_count": 8,
   "metadata": {},
   "outputs": [
    {
     "data": {
      "text/html": [
       "<div>\n",
       "<style scoped>\n",
       "    .dataframe tbody tr th:only-of-type {\n",
       "        vertical-align: middle;\n",
       "    }\n",
       "\n",
       "    .dataframe tbody tr th {\n",
       "        vertical-align: top;\n",
       "    }\n",
       "\n",
       "    .dataframe thead th {\n",
       "        text-align: right;\n",
       "    }\n",
       "</style>\n",
       "<table border=\"1\" class=\"dataframe\">\n",
       "  <thead>\n",
       "    <tr style=\"text-align: right;\">\n",
       "      <th></th>\n",
       "      <th>rt</th>\n",
       "      <th>serialno</th>\n",
       "      <th>division</th>\n",
       "      <th>sporder</th>\n",
       "      <th>puma</th>\n",
       "      <th>region</th>\n",
       "      <th>st</th>\n",
       "      <th>adjinc</th>\n",
       "      <th>pwgtp</th>\n",
       "      <th>agep</th>\n",
       "      <th>...</th>\n",
       "      <th>pwgtp78</th>\n",
       "      <th>pwgtp79</th>\n",
       "      <th>pwgtp80</th>\n",
       "      <th>state_fips</th>\n",
       "      <th>state_name</th>\n",
       "      <th>cpuma0010</th>\n",
       "      <th>puma</th>\n",
       "      <th>geoid</th>\n",
       "      <th>gisjoin</th>\n",
       "      <th>puma_name</th>\n",
       "    </tr>\n",
       "  </thead>\n",
       "  <tbody>\n",
       "    <tr>\n",
       "      <th>0</th>\n",
       "      <td>P</td>\n",
       "      <td>2016001292070</td>\n",
       "      <td>9</td>\n",
       "      <td>05</td>\n",
       "      <td>11610</td>\n",
       "      <td>4</td>\n",
       "      <td>53</td>\n",
       "      <td>1029257</td>\n",
       "      <td>59.0</td>\n",
       "      <td>22.0</td>\n",
       "      <td>...</td>\n",
       "      <td>96.0</td>\n",
       "      <td>109.0</td>\n",
       "      <td>68.0</td>\n",
       "      <td>53</td>\n",
       "      <td>Washington                                    ...</td>\n",
       "      <td>1044</td>\n",
       "      <td>11610</td>\n",
       "      <td>5311610</td>\n",
       "      <td>G53011610</td>\n",
       "      <td>King County (Central)--Renton City, Fairwood, ...</td>\n",
       "    </tr>\n",
       "    <tr>\n",
       "      <th>1</th>\n",
       "      <td>P</td>\n",
       "      <td>2014000964654</td>\n",
       "      <td>9</td>\n",
       "      <td>03</td>\n",
       "      <td>11610</td>\n",
       "      <td>4</td>\n",
       "      <td>53</td>\n",
       "      <td>1045195</td>\n",
       "      <td>12.0</td>\n",
       "      <td>24.0</td>\n",
       "      <td>...</td>\n",
       "      <td>14.0</td>\n",
       "      <td>14.0</td>\n",
       "      <td>15.0</td>\n",
       "      <td>53</td>\n",
       "      <td>Washington                                    ...</td>\n",
       "      <td>1044</td>\n",
       "      <td>11610</td>\n",
       "      <td>5311610</td>\n",
       "      <td>G53011610</td>\n",
       "      <td>King County (Central)--Renton City, Fairwood, ...</td>\n",
       "    </tr>\n",
       "    <tr>\n",
       "      <th>2</th>\n",
       "      <td>P</td>\n",
       "      <td>2017000407899</td>\n",
       "      <td>9</td>\n",
       "      <td>02</td>\n",
       "      <td>11610</td>\n",
       "      <td>4</td>\n",
       "      <td>53</td>\n",
       "      <td>1011189</td>\n",
       "      <td>19.0</td>\n",
       "      <td>22.0</td>\n",
       "      <td>...</td>\n",
       "      <td>22.0</td>\n",
       "      <td>7.0</td>\n",
       "      <td>27.0</td>\n",
       "      <td>53</td>\n",
       "      <td>Washington                                    ...</td>\n",
       "      <td>1044</td>\n",
       "      <td>11610</td>\n",
       "      <td>5311610</td>\n",
       "      <td>G53011610</td>\n",
       "      <td>King County (Central)--Renton City, Fairwood, ...</td>\n",
       "    </tr>\n",
       "    <tr>\n",
       "      <th>3</th>\n",
       "      <td>P</td>\n",
       "      <td>2016001052457</td>\n",
       "      <td>9</td>\n",
       "      <td>02</td>\n",
       "      <td>11610</td>\n",
       "      <td>4</td>\n",
       "      <td>53</td>\n",
       "      <td>1029257</td>\n",
       "      <td>28.0</td>\n",
       "      <td>16.0</td>\n",
       "      <td>...</td>\n",
       "      <td>9.0</td>\n",
       "      <td>48.0</td>\n",
       "      <td>47.0</td>\n",
       "      <td>53</td>\n",
       "      <td>Washington                                    ...</td>\n",
       "      <td>1044</td>\n",
       "      <td>11610</td>\n",
       "      <td>5311610</td>\n",
       "      <td>G53011610</td>\n",
       "      <td>King County (Central)--Renton City, Fairwood, ...</td>\n",
       "    </tr>\n",
       "    <tr>\n",
       "      <th>4</th>\n",
       "      <td>P</td>\n",
       "      <td>2013000166503</td>\n",
       "      <td>9</td>\n",
       "      <td>03</td>\n",
       "      <td>11610</td>\n",
       "      <td>4</td>\n",
       "      <td>53</td>\n",
       "      <td>1061971</td>\n",
       "      <td>41.0</td>\n",
       "      <td>21.0</td>\n",
       "      <td>...</td>\n",
       "      <td>48.0</td>\n",
       "      <td>45.0</td>\n",
       "      <td>71.0</td>\n",
       "      <td>53</td>\n",
       "      <td>Washington                                    ...</td>\n",
       "      <td>1044</td>\n",
       "      <td>11610</td>\n",
       "      <td>5311610</td>\n",
       "      <td>G53011610</td>\n",
       "      <td>King County (Central)--Renton City, Fairwood, ...</td>\n",
       "    </tr>\n",
       "    <tr>\n",
       "      <th>...</th>\n",
       "      <td>...</td>\n",
       "      <td>...</td>\n",
       "      <td>...</td>\n",
       "      <td>...</td>\n",
       "      <td>...</td>\n",
       "      <td>...</td>\n",
       "      <td>...</td>\n",
       "      <td>...</td>\n",
       "      <td>...</td>\n",
       "      <td>...</td>\n",
       "      <td>...</td>\n",
       "      <td>...</td>\n",
       "      <td>...</td>\n",
       "      <td>...</td>\n",
       "      <td>...</td>\n",
       "      <td>...</td>\n",
       "      <td>...</td>\n",
       "      <td>...</td>\n",
       "      <td>...</td>\n",
       "      <td>...</td>\n",
       "      <td>...</td>\n",
       "    </tr>\n",
       "    <tr>\n",
       "      <th>317</th>\n",
       "      <td>P</td>\n",
       "      <td>2013001447844</td>\n",
       "      <td>9</td>\n",
       "      <td>02</td>\n",
       "      <td>11612</td>\n",
       "      <td>4</td>\n",
       "      <td>53</td>\n",
       "      <td>1061971</td>\n",
       "      <td>23.0</td>\n",
       "      <td>22.0</td>\n",
       "      <td>...</td>\n",
       "      <td>26.0</td>\n",
       "      <td>19.0</td>\n",
       "      <td>23.0</td>\n",
       "      <td>53</td>\n",
       "      <td>Washington                                    ...</td>\n",
       "      <td>1046</td>\n",
       "      <td>11612</td>\n",
       "      <td>5311612</td>\n",
       "      <td>G53011612</td>\n",
       "      <td>King County (Far Southwest)--Federal Way, Des ...</td>\n",
       "    </tr>\n",
       "    <tr>\n",
       "      <th>318</th>\n",
       "      <td>P</td>\n",
       "      <td>2017000470800</td>\n",
       "      <td>9</td>\n",
       "      <td>03</td>\n",
       "      <td>11612</td>\n",
       "      <td>4</td>\n",
       "      <td>53</td>\n",
       "      <td>1011189</td>\n",
       "      <td>68.0</td>\n",
       "      <td>19.0</td>\n",
       "      <td>...</td>\n",
       "      <td>68.0</td>\n",
       "      <td>93.0</td>\n",
       "      <td>28.0</td>\n",
       "      <td>53</td>\n",
       "      <td>Washington                                    ...</td>\n",
       "      <td>1046</td>\n",
       "      <td>11612</td>\n",
       "      <td>5311612</td>\n",
       "      <td>G53011612</td>\n",
       "      <td>King County (Far Southwest)--Federal Way, Des ...</td>\n",
       "    </tr>\n",
       "    <tr>\n",
       "      <th>319</th>\n",
       "      <td>P</td>\n",
       "      <td>2016000131164</td>\n",
       "      <td>9</td>\n",
       "      <td>03</td>\n",
       "      <td>11612</td>\n",
       "      <td>4</td>\n",
       "      <td>53</td>\n",
       "      <td>1029257</td>\n",
       "      <td>23.0</td>\n",
       "      <td>23.0</td>\n",
       "      <td>...</td>\n",
       "      <td>38.0</td>\n",
       "      <td>24.0</td>\n",
       "      <td>26.0</td>\n",
       "      <td>53</td>\n",
       "      <td>Washington                                    ...</td>\n",
       "      <td>1046</td>\n",
       "      <td>11612</td>\n",
       "      <td>5311612</td>\n",
       "      <td>G53011612</td>\n",
       "      <td>King County (Far Southwest)--Federal Way, Des ...</td>\n",
       "    </tr>\n",
       "    <tr>\n",
       "      <th>320</th>\n",
       "      <td>P</td>\n",
       "      <td>2014000434014</td>\n",
       "      <td>9</td>\n",
       "      <td>01</td>\n",
       "      <td>11612</td>\n",
       "      <td>4</td>\n",
       "      <td>53</td>\n",
       "      <td>1045195</td>\n",
       "      <td>14.0</td>\n",
       "      <td>20.0</td>\n",
       "      <td>...</td>\n",
       "      <td>0.0</td>\n",
       "      <td>15.0</td>\n",
       "      <td>29.0</td>\n",
       "      <td>53</td>\n",
       "      <td>Washington                                    ...</td>\n",
       "      <td>1046</td>\n",
       "      <td>11612</td>\n",
       "      <td>5311612</td>\n",
       "      <td>G53011612</td>\n",
       "      <td>King County (Far Southwest)--Federal Way, Des ...</td>\n",
       "    </tr>\n",
       "    <tr>\n",
       "      <th>321</th>\n",
       "      <td>P</td>\n",
       "      <td>2013000464262</td>\n",
       "      <td>9</td>\n",
       "      <td>04</td>\n",
       "      <td>11612</td>\n",
       "      <td>4</td>\n",
       "      <td>53</td>\n",
       "      <td>1061971</td>\n",
       "      <td>22.0</td>\n",
       "      <td>22.0</td>\n",
       "      <td>...</td>\n",
       "      <td>21.0</td>\n",
       "      <td>36.0</td>\n",
       "      <td>7.0</td>\n",
       "      <td>53</td>\n",
       "      <td>Washington                                    ...</td>\n",
       "      <td>1046</td>\n",
       "      <td>11612</td>\n",
       "      <td>5311612</td>\n",
       "      <td>G53011612</td>\n",
       "      <td>King County (Far Southwest)--Federal Way, Des ...</td>\n",
       "    </tr>\n",
       "  </tbody>\n",
       "</table>\n",
       "<p>322 rows × 293 columns</p>\n",
       "</div>"
      ],
      "text/plain": [
       "    rt       serialno division sporder   puma region  st   adjinc  pwgtp  \\\n",
       "0    P  2016001292070        9      05  11610      4  53  1029257   59.0   \n",
       "1    P  2014000964654        9      03  11610      4  53  1045195   12.0   \n",
       "2    P  2017000407899        9      02  11610      4  53  1011189   19.0   \n",
       "3    P  2016001052457        9      02  11610      4  53  1029257   28.0   \n",
       "4    P  2013000166503        9      03  11610      4  53  1061971   41.0   \n",
       "..  ..            ...      ...     ...    ...    ...  ..      ...    ...   \n",
       "317  P  2013001447844        9      02  11612      4  53  1061971   23.0   \n",
       "318  P  2017000470800        9      03  11612      4  53  1011189   68.0   \n",
       "319  P  2016000131164        9      03  11612      4  53  1029257   23.0   \n",
       "320  P  2014000434014        9      01  11612      4  53  1045195   14.0   \n",
       "321  P  2013000464262        9      04  11612      4  53  1061971   22.0   \n",
       "\n",
       "     agep  ...  pwgtp78  pwgtp79 pwgtp80 state_fips  \\\n",
       "0    22.0  ...     96.0    109.0    68.0         53   \n",
       "1    24.0  ...     14.0     14.0    15.0         53   \n",
       "2    22.0  ...     22.0      7.0    27.0         53   \n",
       "3    16.0  ...      9.0     48.0    47.0         53   \n",
       "4    21.0  ...     48.0     45.0    71.0         53   \n",
       "..    ...  ...      ...      ...     ...        ...   \n",
       "317  22.0  ...     26.0     19.0    23.0         53   \n",
       "318  19.0  ...     68.0     93.0    28.0         53   \n",
       "319  23.0  ...     38.0     24.0    26.0         53   \n",
       "320  20.0  ...      0.0     15.0    29.0         53   \n",
       "321  22.0  ...     21.0     36.0     7.0         53   \n",
       "\n",
       "                                            state_name cpuma0010   puma  \\\n",
       "0    Washington                                    ...      1044  11610   \n",
       "1    Washington                                    ...      1044  11610   \n",
       "2    Washington                                    ...      1044  11610   \n",
       "3    Washington                                    ...      1044  11610   \n",
       "4    Washington                                    ...      1044  11610   \n",
       "..                                                 ...       ...    ...   \n",
       "317  Washington                                    ...      1046  11612   \n",
       "318  Washington                                    ...      1046  11612   \n",
       "319  Washington                                    ...      1046  11612   \n",
       "320  Washington                                    ...      1046  11612   \n",
       "321  Washington                                    ...      1046  11612   \n",
       "\n",
       "       geoid    gisjoin                                          puma_name  \n",
       "0    5311610  G53011610  King County (Central)--Renton City, Fairwood, ...  \n",
       "1    5311610  G53011610  King County (Central)--Renton City, Fairwood, ...  \n",
       "2    5311610  G53011610  King County (Central)--Renton City, Fairwood, ...  \n",
       "3    5311610  G53011610  King County (Central)--Renton City, Fairwood, ...  \n",
       "4    5311610  G53011610  King County (Central)--Renton City, Fairwood, ...  \n",
       "..       ...        ...                                                ...  \n",
       "317  5311612  G53011612  King County (Far Southwest)--Federal Way, Des ...  \n",
       "318  5311612  G53011612  King County (Far Southwest)--Federal Way, Des ...  \n",
       "319  5311612  G53011612  King County (Far Southwest)--Federal Way, Des ...  \n",
       "320  5311612  G53011612  King County (Far Southwest)--Federal Way, Des ...  \n",
       "321  5311612  G53011612  King County (Far Southwest)--Federal Way, Des ...  \n",
       "\n",
       "[322 rows x 293 columns]"
      ]
     },
     "execution_count": 8,
     "metadata": {},
     "output_type": "execute_result"
    }
   ],
   "source": [
    "#select OY in South King County\n",
    "QUERY = \"\"\"\n",
    "    SELECT *\n",
    "    FROM pums_2017 ps\n",
    "    JOIN puma_names_2010 pn\n",
    "    ON ps.puma = pn.puma\n",
    "    WHERE pn.puma SIMILAR TO '1161(0|1|2|3|4|5)'\n",
    "    AND ps.agep >= 16\n",
    "    AND ps.agep <= 24\n",
    "    AND ps.sch = '1'\n",
    "    AND ps.dis = '2'\n",
    "    AND ps.esr SIMILAR TO '%(3|6)%'\n",
    "    ORDER BY pn\n",
    "    \"\"\"\n",
    "db_south = pd.read_sql(QUERY, conn)\n",
    "db_south"
   ]
  },
  {
   "cell_type": "code",
   "execution_count": 9,
   "metadata": {},
   "outputs": [],
   "source": [
    "# #load king county data (for mapping underlay/ county outline purposes)\n",
    "# filename = \"../../data/WA_County_Boundaries-shp/WA_County_Boundaries.shp\"\n",
    "# df_WA = gpd.read_file(filename)"
   ]
  },
  {
   "cell_type": "code",
   "execution_count": 10,
   "metadata": {},
   "outputs": [],
   "source": [
    "# #create geopandas dataframe with geometry from lat/long coordinates (column names case sensitive)\n",
    "# geo_WA = gpd.GeoDataFrame(df_WA)"
   ]
  },
  {
   "cell_type": "code",
   "execution_count": 11,
   "metadata": {},
   "outputs": [],
   "source": [
    "# print(geo_WA.crs)"
   ]
  },
  {
   "cell_type": "code",
   "execution_count": 12,
   "metadata": {},
   "outputs": [],
   "source": [
    "# #find column containing king county\n",
    "# geo_WA"
   ]
  },
  {
   "cell_type": "code",
   "execution_count": 13,
   "metadata": {},
   "outputs": [],
   "source": [
    "# geo_king_county = geo_WA.loc[geo_WA['JURISDIC_2']=='King']\n",
    "# geo_king_county"
   ]
  },
  {
   "cell_type": "code",
   "execution_count": 14,
   "metadata": {},
   "outputs": [],
   "source": [
    "# ax = geo_WA.plot(color='white', edgecolor='black' )\n",
    "\n",
    "# fig = geo_king_county.plot(ax=ax, color='red')\n",
    "# plt.xticks([])\n",
    "# plt.yticks([])\n",
    "# plt.title('Counties in WA State (Mercator)', color='white')\n",
    "# plt.xlabel('King County (in red)', color='white')\n",
    "# ax.spines['top'].set_visible(False)\n",
    "# ax.spines['right'].set_visible(False)\n",
    "# ax.spines['bottom'].set_visible(False)\n",
    "# ax.spines['left'].set_visible(False)\n",
    "\n",
    "# plt.savefig('king_on_WA.png', transparent=True)"
   ]
  },
  {
   "cell_type": "code",
   "execution_count": 15,
   "metadata": {},
   "outputs": [],
   "source": [
    "# declre df with desired pumas without duplicates from columns\n",
    "db_south_pumas = db_south['puma'].drop_duplicates()"
   ]
  },
  {
   "cell_type": "code",
   "execution_count": 16,
   "metadata": {},
   "outputs": [
    {
     "data": {
      "text/plain": [
       "['11610', '11613', '11614', '11615', '11611', '11612']"
      ]
     },
     "execution_count": 16,
     "metadata": {},
     "output_type": "execute_result"
    }
   ],
   "source": [
    "# remove duplicate column, coonvert topo list of pumas\n",
    "db_south_pumas = db_south_pumas.loc[:,~db_south_pumas.columns.duplicated()]\n",
    "pumas = list(db_south_pumas['puma'])\n",
    "pumas"
   ]
  },
  {
   "cell_type": "code",
   "execution_count": 17,
   "metadata": {},
   "outputs": [
    {
     "data": {
      "text/html": [
       "<div>\n",
       "<style scoped>\n",
       "    .dataframe tbody tr th:only-of-type {\n",
       "        vertical-align: middle;\n",
       "    }\n",
       "\n",
       "    .dataframe tbody tr th {\n",
       "        vertical-align: top;\n",
       "    }\n",
       "\n",
       "    .dataframe thead th {\n",
       "        text-align: right;\n",
       "    }\n",
       "</style>\n",
       "<table border=\"1\" class=\"dataframe\">\n",
       "  <thead>\n",
       "    <tr style=\"text-align: right;\">\n",
       "      <th></th>\n",
       "      <th>STATEFP10</th>\n",
       "      <th>PUMACE10</th>\n",
       "      <th>GEOID10</th>\n",
       "      <th>NAMELSAD10</th>\n",
       "      <th>MTFCC10</th>\n",
       "      <th>FUNCSTAT10</th>\n",
       "      <th>ALAND10</th>\n",
       "      <th>AWATER10</th>\n",
       "      <th>INTPTLAT10</th>\n",
       "      <th>INTPTLON10</th>\n",
       "      <th>geometry</th>\n",
       "    </tr>\n",
       "  </thead>\n",
       "  <tbody>\n",
       "    <tr>\n",
       "      <th>0</th>\n",
       "      <td>53</td>\n",
       "      <td>10200</td>\n",
       "      <td>5310200</td>\n",
       "      <td>Skagit, Island &amp; San Juan Counties PUMA</td>\n",
       "      <td>G6120</td>\n",
       "      <td>S</td>\n",
       "      <td>5470622131</td>\n",
       "      <td>2441658886</td>\n",
       "      <td>+48.4470835</td>\n",
       "      <td>-122.1737477</td>\n",
       "      <td>POLYGON ((-122.44422 48.64527, -122.43685 48.6...</td>\n",
       "    </tr>\n",
       "    <tr>\n",
       "      <th>1</th>\n",
       "      <td>53</td>\n",
       "      <td>10100</td>\n",
       "      <td>5310100</td>\n",
       "      <td>Whatcom County--Bellingham City PUMA</td>\n",
       "      <td>G6120</td>\n",
       "      <td>S</td>\n",
       "      <td>5459332804</td>\n",
       "      <td>1028183246</td>\n",
       "      <td>+48.8426531</td>\n",
       "      <td>-121.8364325</td>\n",
       "      <td>POLYGON ((-122.40642 49.00230, -122.40617 49.0...</td>\n",
       "    </tr>\n",
       "    <tr>\n",
       "      <th>2</th>\n",
       "      <td>53</td>\n",
       "      <td>10400</td>\n",
       "      <td>5310400</td>\n",
       "      <td>Stevens, Okanogan, Pend Oreille &amp; Ferry Counti...</td>\n",
       "      <td>G6120</td>\n",
       "      <td>S</td>\n",
       "      <td>29389124389</td>\n",
       "      <td>489162432</td>\n",
       "      <td>+48.5031090</td>\n",
       "      <td>-118.7866777</td>\n",
       "      <td>POLYGON ((-118.14859 47.88667, -118.14899 47.8...</td>\n",
       "    </tr>\n",
       "    <tr>\n",
       "      <th>3</th>\n",
       "      <td>53</td>\n",
       "      <td>10504</td>\n",
       "      <td>5310504</td>\n",
       "      <td>Spokane County (Outer)--Cheney City PUMA</td>\n",
       "      <td>G6120</td>\n",
       "      <td>S</td>\n",
       "      <td>3983412021</td>\n",
       "      <td>35812133</td>\n",
       "      <td>+47.5972847</td>\n",
       "      <td>-117.1210417</td>\n",
       "      <td>POLYGON ((-117.10528 47.61018, -117.10527 47.6...</td>\n",
       "    </tr>\n",
       "    <tr>\n",
       "      <th>4</th>\n",
       "      <td>53</td>\n",
       "      <td>10503</td>\n",
       "      <td>5310503</td>\n",
       "      <td>Spokane County (East Central)--Greater Spokane...</td>\n",
       "      <td>G6120</td>\n",
       "      <td>S</td>\n",
       "      <td>270926976</td>\n",
       "      <td>5004332</td>\n",
       "      <td>+47.6561281</td>\n",
       "      <td>-117.1818649</td>\n",
       "      <td>POLYGON ((-117.15534 47.69971, -117.15509 47.6...</td>\n",
       "    </tr>\n",
       "  </tbody>\n",
       "</table>\n",
       "</div>"
      ],
      "text/plain": [
       "  STATEFP10 PUMACE10  GEOID10  \\\n",
       "0        53    10200  5310200   \n",
       "1        53    10100  5310100   \n",
       "2        53    10400  5310400   \n",
       "3        53    10504  5310504   \n",
       "4        53    10503  5310503   \n",
       "\n",
       "                                          NAMELSAD10 MTFCC10 FUNCSTAT10  \\\n",
       "0            Skagit, Island & San Juan Counties PUMA   G6120          S   \n",
       "1               Whatcom County--Bellingham City PUMA   G6120          S   \n",
       "2  Stevens, Okanogan, Pend Oreille & Ferry Counti...   G6120          S   \n",
       "3           Spokane County (Outer)--Cheney City PUMA   G6120          S   \n",
       "4  Spokane County (East Central)--Greater Spokane...   G6120          S   \n",
       "\n",
       "       ALAND10    AWATER10   INTPTLAT10    INTPTLON10  \\\n",
       "0   5470622131  2441658886  +48.4470835  -122.1737477   \n",
       "1   5459332804  1028183246  +48.8426531  -121.8364325   \n",
       "2  29389124389   489162432  +48.5031090  -118.7866777   \n",
       "3   3983412021    35812133  +47.5972847  -117.1210417   \n",
       "4    270926976     5004332  +47.6561281  -117.1818649   \n",
       "\n",
       "                                            geometry  \n",
       "0  POLYGON ((-122.44422 48.64527, -122.43685 48.6...  \n",
       "1  POLYGON ((-122.40642 49.00230, -122.40617 49.0...  \n",
       "2  POLYGON ((-118.14859 47.88667, -118.14899 47.8...  \n",
       "3  POLYGON ((-117.10528 47.61018, -117.10527 47.6...  \n",
       "4  POLYGON ((-117.15534 47.69971, -117.15509 47.6...  "
      ]
     },
     "execution_count": 17,
     "metadata": {},
     "output_type": "execute_result"
    }
   ],
   "source": [
    "# load king county by king county puma data\n",
    "filename = \"../../src/data/mapping_data/tl_2017_53_puma10/tl_2017_53_puma10.shp\"\n",
    "all_pumas_shp = gpd.read_file(filename)\n",
    "all_pumas_shp.head()"
   ]
  },
  {
   "cell_type": "code",
   "execution_count": 18,
   "metadata": {},
   "outputs": [],
   "source": [
    "# convert pumas column to int\n",
    "all_pumas_shp.PUMACE10 = all_pumas_shp.PUMACE10.astype('int64')"
   ]
  },
  {
   "cell_type": "code",
   "execution_count": 19,
   "metadata": {},
   "outputs": [],
   "source": [
    "south_king_shp = all_pumas_shp[all_pumas_shp.PUMACE10.between(11610,11615)]"
   ]
  },
  {
   "cell_type": "code",
   "execution_count": 20,
   "metadata": {},
   "outputs": [
    {
     "data": {
      "text/html": [
       "<div>\n",
       "<style scoped>\n",
       "    .dataframe tbody tr th:only-of-type {\n",
       "        vertical-align: middle;\n",
       "    }\n",
       "\n",
       "    .dataframe tbody tr th {\n",
       "        vertical-align: top;\n",
       "    }\n",
       "\n",
       "    .dataframe thead th {\n",
       "        text-align: right;\n",
       "    }\n",
       "</style>\n",
       "<table border=\"1\" class=\"dataframe\">\n",
       "  <thead>\n",
       "    <tr style=\"text-align: right;\">\n",
       "      <th></th>\n",
       "      <th>STATEFP10</th>\n",
       "      <th>PUMACE10</th>\n",
       "      <th>GEOID10</th>\n",
       "      <th>NAMELSAD10</th>\n",
       "      <th>MTFCC10</th>\n",
       "      <th>FUNCSTAT10</th>\n",
       "      <th>ALAND10</th>\n",
       "      <th>AWATER10</th>\n",
       "      <th>INTPTLAT10</th>\n",
       "      <th>INTPTLON10</th>\n",
       "      <th>geometry</th>\n",
       "    </tr>\n",
       "  </thead>\n",
       "  <tbody>\n",
       "    <tr>\n",
       "      <th>9</th>\n",
       "      <td>53</td>\n",
       "      <td>11612</td>\n",
       "      <td>5311612</td>\n",
       "      <td>King County (Far Southwest)--Federal Way, Des ...</td>\n",
       "      <td>G6120</td>\n",
       "      <td>S</td>\n",
       "      <td>160638807</td>\n",
       "      <td>279665546</td>\n",
       "      <td>+47.4764651</td>\n",
       "      <td>-122.4271168</td>\n",
       "      <td>POLYGON ((-122.33587 47.26382, -122.33676 47.2...</td>\n",
       "    </tr>\n",
       "    <tr>\n",
       "      <th>35</th>\n",
       "      <td>53</td>\n",
       "      <td>11611</td>\n",
       "      <td>5311611</td>\n",
       "      <td>King County (West Central)--Burien, SeaTac, Tu...</td>\n",
       "      <td>G6120</td>\n",
       "      <td>S</td>\n",
       "      <td>104685305</td>\n",
       "      <td>6835973</td>\n",
       "      <td>+47.4500687</td>\n",
       "      <td>-122.3101564</td>\n",
       "      <td>POLYGON ((-122.26541 47.48933, -122.26516 47.4...</td>\n",
       "    </tr>\n",
       "    <tr>\n",
       "      <th>41</th>\n",
       "      <td>53</td>\n",
       "      <td>11615</td>\n",
       "      <td>5311615</td>\n",
       "      <td>King County (Southeast)--Maple Valley, Covingt...</td>\n",
       "      <td>G6120</td>\n",
       "      <td>S</td>\n",
       "      <td>1704963276</td>\n",
       "      <td>21281417</td>\n",
       "      <td>+47.2986756</td>\n",
       "      <td>-121.7866429</td>\n",
       "      <td>POLYGON ((-121.99603 47.28012, -121.99615 47.2...</td>\n",
       "    </tr>\n",
       "    <tr>\n",
       "      <th>42</th>\n",
       "      <td>53</td>\n",
       "      <td>11614</td>\n",
       "      <td>5311614</td>\n",
       "      <td>King County (Southwest)--Auburn City &amp; Lakelan...</td>\n",
       "      <td>G6120</td>\n",
       "      <td>S</td>\n",
       "      <td>177945706</td>\n",
       "      <td>2750138</td>\n",
       "      <td>+47.2844346</td>\n",
       "      <td>-122.1690701</td>\n",
       "      <td>POLYGON ((-122.21930 47.25746, -122.21948 47.2...</td>\n",
       "    </tr>\n",
       "    <tr>\n",
       "      <th>44</th>\n",
       "      <td>53</td>\n",
       "      <td>11613</td>\n",
       "      <td>5311613</td>\n",
       "      <td>King County (Southwest Central)--Kent City PUMA</td>\n",
       "      <td>G6120</td>\n",
       "      <td>S</td>\n",
       "      <td>96646675</td>\n",
       "      <td>1914377</td>\n",
       "      <td>+47.3879703</td>\n",
       "      <td>-122.2127275</td>\n",
       "      <td>POLYGON ((-122.20242 47.34461, -122.20287 47.3...</td>\n",
       "    </tr>\n",
       "    <tr>\n",
       "      <th>52</th>\n",
       "      <td>53</td>\n",
       "      <td>11610</td>\n",
       "      <td>5311610</td>\n",
       "      <td>King County (Central)--Renton City, Fairwood, ...</td>\n",
       "      <td>G6120</td>\n",
       "      <td>S</td>\n",
       "      <td>75931302</td>\n",
       "      <td>4694856</td>\n",
       "      <td>+47.4836108</td>\n",
       "      <td>-122.1904418</td>\n",
       "      <td>POLYGON ((-122.18399 47.51673, -122.18361 47.5...</td>\n",
       "    </tr>\n",
       "  </tbody>\n",
       "</table>\n",
       "</div>"
      ],
      "text/plain": [
       "   STATEFP10  PUMACE10  GEOID10  \\\n",
       "9         53     11612  5311612   \n",
       "35        53     11611  5311611   \n",
       "41        53     11615  5311615   \n",
       "42        53     11614  5311614   \n",
       "44        53     11613  5311613   \n",
       "52        53     11610  5311610   \n",
       "\n",
       "                                           NAMELSAD10 MTFCC10 FUNCSTAT10  \\\n",
       "9   King County (Far Southwest)--Federal Way, Des ...   G6120          S   \n",
       "35  King County (West Central)--Burien, SeaTac, Tu...   G6120          S   \n",
       "41  King County (Southeast)--Maple Valley, Covingt...   G6120          S   \n",
       "42  King County (Southwest)--Auburn City & Lakelan...   G6120          S   \n",
       "44    King County (Southwest Central)--Kent City PUMA   G6120          S   \n",
       "52  King County (Central)--Renton City, Fairwood, ...   G6120          S   \n",
       "\n",
       "       ALAND10   AWATER10   INTPTLAT10    INTPTLON10  \\\n",
       "9    160638807  279665546  +47.4764651  -122.4271168   \n",
       "35   104685305    6835973  +47.4500687  -122.3101564   \n",
       "41  1704963276   21281417  +47.2986756  -121.7866429   \n",
       "42   177945706    2750138  +47.2844346  -122.1690701   \n",
       "44    96646675    1914377  +47.3879703  -122.2127275   \n",
       "52    75931302    4694856  +47.4836108  -122.1904418   \n",
       "\n",
       "                                             geometry  \n",
       "9   POLYGON ((-122.33587 47.26382, -122.33676 47.2...  \n",
       "35  POLYGON ((-122.26541 47.48933, -122.26516 47.4...  \n",
       "41  POLYGON ((-121.99603 47.28012, -121.99615 47.2...  \n",
       "42  POLYGON ((-122.21930 47.25746, -122.21948 47.2...  \n",
       "44  POLYGON ((-122.20242 47.34461, -122.20287 47.3...  \n",
       "52  POLYGON ((-122.18399 47.51673, -122.18361 47.5...  "
      ]
     },
     "execution_count": 20,
     "metadata": {},
     "output_type": "execute_result"
    }
   ],
   "source": [
    "south_king_shp"
   ]
  },
  {
   "cell_type": "code",
   "execution_count": 21,
   "metadata": {},
   "outputs": [
    {
     "data": {
      "image/png": "[encoded data removed]",
      "text/plain": [
       "<Figure size 432x288 with 1 Axes>"
      ]
     },
     "metadata": {},
     "output_type": "display_data"
    }
   ],
   "source": [
    "ax = all_pumas_shp.plot(color='white', edgecolor='black' )\n",
    "fig = south_king_shp.plot(ax=ax, color='red')\n",
    "plt.xticks([])\n",
    "plt.yticks([])\n",
    "plt.title('Location of South King County', color='white')\n",
    "plt.xlabel('South King County (in red)', color='white')\n",
    "# ax.spines['top'].set_visible(False)\n",
    "# ax.spines['right'].set_visible(False)\n",
    "# ax.spines['bottom'].set_visible(False)\n",
    "# ax.spines['left'].set_visible(False)\n",
    "ax.axis('off')\n",
    "plt.savefig('south_king_on_WA.png', transparent=True)"
   ]
  },
  {
   "cell_type": "code",
   "execution_count": 22,
   "metadata": {},
   "outputs": [],
   "source": [
    "#define new gdf with only king county shp info\n",
    "king_pumas_shp = all_pumas_shp[(all_pumas_shp.PUMACE10.between(11601, 11616))]"
   ]
  },
  {
   "cell_type": "code",
   "execution_count": 23,
   "metadata": {},
   "outputs": [],
   "source": [
    "res_union = gpd.overlay(all_pumas_shp, king_pumas_shp, how='intersection')"
   ]
  },
  {
   "cell_type": "code",
   "execution_count": 24,
   "metadata": {},
   "outputs": [
    {
     "data": {
      "text/plain": [
       "(-125.24561915, -116.51942585, 45.37059645, 49.175376549999996)"
      ]
     },
     "execution_count": 24,
     "metadata": {},
     "output_type": "execute_result"
    },
    {
     "data": {
      "image/png": "[encoded data removed]",
      "text/plain": [
       "<Figure size 432x288 with 1 Axes>"
      ]
     },
     "metadata": {
      "needs_background": "light"
     },
     "output_type": "display_data"
    }
   ],
   "source": [
    "ax = res_union.plot(alpha=1, cmap='tab10')\n",
    "all_pumas_shp.plot(ax=ax, facecolor='none', edgecolor='k')\n",
    "king_pumas_shp.plot(ax=ax, facecolor='none', edgecolor='k')\n",
    "ax.axis('off')"
   ]
  },
  {
   "cell_type": "code",
   "execution_count": 25,
   "metadata": {},
   "outputs": [
    {
     "data": {
      "image/png": "[encoded data removed]",
      "text/plain": [
       "<Figure size 432x288 with 1 Axes>"
      ]
     },
     "metadata": {},
     "output_type": "display_data"
    }
   ],
   "source": [
    "ax = all_pumas_shp.plot(color='darkgray', edgecolor='darkgrey', zorder=0 )\n",
    "fig = king_pumas_shp.plot(ax=ax, color='fuchsia', edgecolor='fuchsia', zorder=1 )\n",
    "plt.xticks([])\n",
    "plt.yticks([])\n",
    "plt.title('King County', color='white')\n",
    "plt.xlabel('King County', color='white')\n",
    "# ax.spines['top'].set_visible(False)\n",
    "# ax.spines['right'].set_visible(False)\n",
    "# ax.spines['bottom'].set_visible(False)\n",
    "# ax.spines['left'].set_visible(False)\n",
    "ax.axis('off')\n",
    "plt.savefig('king_on_WA.png', transparent=True)"
   ]
  },
  {
   "cell_type": "code",
   "execution_count": 26,
   "metadata": {},
   "outputs": [],
   "source": [
    "res_union = gpd.overlay(south_king_shp, king_pumas_shp, how='intersection')"
   ]
  },
  {
   "cell_type": "code",
   "execution_count": 27,
   "metadata": {},
   "outputs": [
    {
     "data": {
      "text/plain": [
       "(-122.6154468, -120.9921592, 47.04953869999999, 47.8153873)"
      ]
     },
     "execution_count": 27,
     "metadata": {},
     "output_type": "execute_result"
    },
    {
     "data": {
      "image/png": "[encoded data removed]",
      "text/plain": [
       "<Figure size 432x288 with 1 Axes>"
      ]
     },
     "metadata": {
      "needs_background": "light"
     },
     "output_type": "display_data"
    }
   ],
   "source": [
    "ax = res_union.plot(alpha=1, cmap='tab10')\n",
    "south_king_shp.plot(ax=ax, facecolor='none', edgecolor='k')\n",
    "king_pumas_shp.plot(ax=ax, facecolor='none', edgecolor='k')\n",
    "ax.axis('off')"
   ]
  },
  {
   "cell_type": "code",
   "execution_count": 28,
   "metadata": {},
   "outputs": [],
   "source": [
    "# get dict from teammate defined function\n",
    "oy_count_dict = cdf.get_pums_oy_count()"
   ]
  },
  {
   "cell_type": "code",
   "execution_count": 29,
   "metadata": {},
   "outputs": [],
   "source": [
    "# create list to change to pandas friendly format\n",
    "oy_count_list = [[x for x in oy_count_dict.keys()],[x for x in oy_count_dict.values()]]\n"
   ]
  },
  {
   "cell_type": "code",
   "execution_count": 30,
   "metadata": {},
   "outputs": [],
   "source": [
    "# create list to change to pandas friendly format\n",
    "oy_df_dict = {'total': oy_count_list[1], 'puma': oy_count_list[0]}"
   ]
  },
  {
   "cell_type": "code",
   "execution_count": 31,
   "metadata": {},
   "outputs": [
    {
     "data": {
      "text/plain": [
       "{'total': [1853.0, 2038.0, 1977.0, 2006.0, 1530.0, 1210.0],\n",
       " 'puma': ['11610', '11611', '11612', '11613', '11614', '11615']}"
      ]
     },
     "execution_count": 31,
     "metadata": {},
     "output_type": "execute_result"
    }
   ],
   "source": [
    "oy_df_dict"
   ]
  },
  {
   "cell_type": "code",
   "execution_count": 32,
   "metadata": {},
   "outputs": [
    {
     "data": {
      "text/html": [
       "<div>\n",
       "<style scoped>\n",
       "    .dataframe tbody tr th:only-of-type {\n",
       "        vertical-align: middle;\n",
       "    }\n",
       "\n",
       "    .dataframe tbody tr th {\n",
       "        vertical-align: top;\n",
       "    }\n",
       "\n",
       "    .dataframe thead th {\n",
       "        text-align: right;\n",
       "    }\n",
       "</style>\n",
       "<table border=\"1\" class=\"dataframe\">\n",
       "  <thead>\n",
       "    <tr style=\"text-align: right;\">\n",
       "      <th></th>\n",
       "      <th>total</th>\n",
       "      <th>puma</th>\n",
       "    </tr>\n",
       "  </thead>\n",
       "  <tbody>\n",
       "    <tr>\n",
       "      <th>0</th>\n",
       "      <td>1853.0</td>\n",
       "      <td>11610</td>\n",
       "    </tr>\n",
       "    <tr>\n",
       "      <th>1</th>\n",
       "      <td>2038.0</td>\n",
       "      <td>11611</td>\n",
       "    </tr>\n",
       "    <tr>\n",
       "      <th>2</th>\n",
       "      <td>1977.0</td>\n",
       "      <td>11612</td>\n",
       "    </tr>\n",
       "    <tr>\n",
       "      <th>3</th>\n",
       "      <td>2006.0</td>\n",
       "      <td>11613</td>\n",
       "    </tr>\n",
       "    <tr>\n",
       "      <th>4</th>\n",
       "      <td>1530.0</td>\n",
       "      <td>11614</td>\n",
       "    </tr>\n",
       "    <tr>\n",
       "      <th>5</th>\n",
       "      <td>1210.0</td>\n",
       "      <td>11615</td>\n",
       "    </tr>\n",
       "  </tbody>\n",
       "</table>\n",
       "</div>"
      ],
      "text/plain": [
       "    total   puma\n",
       "0  1853.0  11610\n",
       "1  2038.0  11611\n",
       "2  1977.0  11612\n",
       "3  2006.0  11613\n",
       "4  1530.0  11614\n",
       "5  1210.0  11615"
      ]
     },
     "execution_count": 32,
     "metadata": {},
     "output_type": "execute_result"
    }
   ],
   "source": [
    "# finally, create dataframe\n",
    "df_oy = pd.DataFrame.from_dict(oy_df_dict)\n",
    "df_oy.puma = df_oy.puma.astype('int64')\n",
    "df_oy"
   ]
  },
  {
   "cell_type": "code",
   "execution_count": 33,
   "metadata": {},
   "outputs": [
    {
     "data": {
      "text/html": [
       "<div>\n",
       "<style scoped>\n",
       "    .dataframe tbody tr th:only-of-type {\n",
       "        vertical-align: middle;\n",
       "    }\n",
       "\n",
       "    .dataframe tbody tr th {\n",
       "        vertical-align: top;\n",
       "    }\n",
       "\n",
       "    .dataframe thead th {\n",
       "        text-align: right;\n",
       "    }\n",
       "</style>\n",
       "<table border=\"1\" class=\"dataframe\">\n",
       "  <thead>\n",
       "    <tr style=\"text-align: right;\">\n",
       "      <th></th>\n",
       "      <th>key_0</th>\n",
       "      <th>STATEFP10</th>\n",
       "      <th>PUMACE10</th>\n",
       "      <th>GEOID10</th>\n",
       "      <th>NAMELSAD10</th>\n",
       "      <th>MTFCC10</th>\n",
       "      <th>FUNCSTAT10</th>\n",
       "      <th>ALAND10</th>\n",
       "      <th>AWATER10</th>\n",
       "      <th>INTPTLAT10</th>\n",
       "      <th>INTPTLON10</th>\n",
       "      <th>geometry</th>\n",
       "      <th>total</th>\n",
       "      <th>puma</th>\n",
       "    </tr>\n",
       "  </thead>\n",
       "  <tbody>\n",
       "    <tr>\n",
       "      <th>0</th>\n",
       "      <td>11612</td>\n",
       "      <td>53</td>\n",
       "      <td>11612</td>\n",
       "      <td>5311612</td>\n",
       "      <td>King County (Far Southwest)--Federal Way, Des ...</td>\n",
       "      <td>G6120</td>\n",
       "      <td>S</td>\n",
       "      <td>160638807</td>\n",
       "      <td>279665546</td>\n",
       "      <td>+47.4764651</td>\n",
       "      <td>-122.4271168</td>\n",
       "      <td>POLYGON ((-122.33587 47.26382, -122.33676 47.2...</td>\n",
       "      <td>1977.0</td>\n",
       "      <td>11612</td>\n",
       "    </tr>\n",
       "    <tr>\n",
       "      <th>1</th>\n",
       "      <td>11611</td>\n",
       "      <td>53</td>\n",
       "      <td>11611</td>\n",
       "      <td>5311611</td>\n",
       "      <td>King County (West Central)--Burien, SeaTac, Tu...</td>\n",
       "      <td>G6120</td>\n",
       "      <td>S</td>\n",
       "      <td>104685305</td>\n",
       "      <td>6835973</td>\n",
       "      <td>+47.4500687</td>\n",
       "      <td>-122.3101564</td>\n",
       "      <td>POLYGON ((-122.26541 47.48933, -122.26516 47.4...</td>\n",
       "      <td>2038.0</td>\n",
       "      <td>11611</td>\n",
       "    </tr>\n",
       "    <tr>\n",
       "      <th>2</th>\n",
       "      <td>11615</td>\n",
       "      <td>53</td>\n",
       "      <td>11615</td>\n",
       "      <td>5311615</td>\n",
       "      <td>King County (Southeast)--Maple Valley, Covingt...</td>\n",
       "      <td>G6120</td>\n",
       "      <td>S</td>\n",
       "      <td>1704963276</td>\n",
       "      <td>21281417</td>\n",
       "      <td>+47.2986756</td>\n",
       "      <td>-121.7866429</td>\n",
       "      <td>POLYGON ((-121.99603 47.28012, -121.99615 47.2...</td>\n",
       "      <td>1210.0</td>\n",
       "      <td>11615</td>\n",
       "    </tr>\n",
       "    <tr>\n",
       "      <th>3</th>\n",
       "      <td>11614</td>\n",
       "      <td>53</td>\n",
       "      <td>11614</td>\n",
       "      <td>5311614</td>\n",
       "      <td>King County (Southwest)--Auburn City &amp; Lakelan...</td>\n",
       "      <td>G6120</td>\n",
       "      <td>S</td>\n",
       "      <td>177945706</td>\n",
       "      <td>2750138</td>\n",
       "      <td>+47.2844346</td>\n",
       "      <td>-122.1690701</td>\n",
       "      <td>POLYGON ((-122.21930 47.25746, -122.21948 47.2...</td>\n",
       "      <td>1530.0</td>\n",
       "      <td>11614</td>\n",
       "    </tr>\n",
       "    <tr>\n",
       "      <th>4</th>\n",
       "      <td>11613</td>\n",
       "      <td>53</td>\n",
       "      <td>11613</td>\n",
       "      <td>5311613</td>\n",
       "      <td>King County (Southwest Central)--Kent City PUMA</td>\n",
       "      <td>G6120</td>\n",
       "      <td>S</td>\n",
       "      <td>96646675</td>\n",
       "      <td>1914377</td>\n",
       "      <td>+47.3879703</td>\n",
       "      <td>-122.2127275</td>\n",
       "      <td>POLYGON ((-122.20242 47.34461, -122.20287 47.3...</td>\n",
       "      <td>2006.0</td>\n",
       "      <td>11613</td>\n",
       "    </tr>\n",
       "    <tr>\n",
       "      <th>5</th>\n",
       "      <td>11610</td>\n",
       "      <td>53</td>\n",
       "      <td>11610</td>\n",
       "      <td>5311610</td>\n",
       "      <td>King County (Central)--Renton City, Fairwood, ...</td>\n",
       "      <td>G6120</td>\n",
       "      <td>S</td>\n",
       "      <td>75931302</td>\n",
       "      <td>4694856</td>\n",
       "      <td>+47.4836108</td>\n",
       "      <td>-122.1904418</td>\n",
       "      <td>POLYGON ((-122.18399 47.51673, -122.18361 47.5...</td>\n",
       "      <td>1853.0</td>\n",
       "      <td>11610</td>\n",
       "    </tr>\n",
       "  </tbody>\n",
       "</table>\n",
       "</div>"
      ],
      "text/plain": [
       "   key_0 STATEFP10  PUMACE10  GEOID10  \\\n",
       "0  11612        53     11612  5311612   \n",
       "1  11611        53     11611  5311611   \n",
       "2  11615        53     11615  5311615   \n",
       "3  11614        53     11614  5311614   \n",
       "4  11613        53     11613  5311613   \n",
       "5  11610        53     11610  5311610   \n",
       "\n",
       "                                          NAMELSAD10 MTFCC10 FUNCSTAT10  \\\n",
       "0  King County (Far Southwest)--Federal Way, Des ...   G6120          S   \n",
       "1  King County (West Central)--Burien, SeaTac, Tu...   G6120          S   \n",
       "2  King County (Southeast)--Maple Valley, Covingt...   G6120          S   \n",
       "3  King County (Southwest)--Auburn City & Lakelan...   G6120          S   \n",
       "4    King County (Southwest Central)--Kent City PUMA   G6120          S   \n",
       "5  King County (Central)--Renton City, Fairwood, ...   G6120          S   \n",
       "\n",
       "      ALAND10   AWATER10   INTPTLAT10    INTPTLON10  \\\n",
       "0   160638807  279665546  +47.4764651  -122.4271168   \n",
       "1   104685305    6835973  +47.4500687  -122.3101564   \n",
       "2  1704963276   21281417  +47.2986756  -121.7866429   \n",
       "3   177945706    2750138  +47.2844346  -122.1690701   \n",
       "4    96646675    1914377  +47.3879703  -122.2127275   \n",
       "5    75931302    4694856  +47.4836108  -122.1904418   \n",
       "\n",
       "                                            geometry   total   puma  \n",
       "0  POLYGON ((-122.33587 47.26382, -122.33676 47.2...  1977.0  11612  \n",
       "1  POLYGON ((-122.26541 47.48933, -122.26516 47.4...  2038.0  11611  \n",
       "2  POLYGON ((-121.99603 47.28012, -121.99615 47.2...  1210.0  11615  \n",
       "3  POLYGON ((-122.21930 47.25746, -122.21948 47.2...  1530.0  11614  \n",
       "4  POLYGON ((-122.20242 47.34461, -122.20287 47.3...  2006.0  11613  \n",
       "5  POLYGON ((-122.18399 47.51673, -122.18361 47.5...  1853.0  11610  "
      ]
     },
     "execution_count": 33,
     "metadata": {},
     "output_type": "execute_result"
    }
   ],
   "source": [
    "# create merged dataframe for choro\n",
    "# merged = south_king_shp.set_index('PUMACE10').join(df_oy.set_index('puma'))  #stopped working after reset kernel\n",
    "merged = south_king_shp.merge(df_oy, left_on=south_king_shp.PUMACE10, right_on=df_oy.puma)\n",
    "merged"
   ]
  },
  {
   "cell_type": "code",
   "execution_count": 40,
   "metadata": {},
   "outputs": [
    {
     "data": {
      "image/png": "[encoded data removed]",
      "text/plain": [
       "<Figure size 1080x720 with 2 Axes>"
      ]
     },
     "metadata": {
      "needs_background": "light"
     },
     "output_type": "display_data"
    }
   ],
   "source": [
    "# define column name for choro index\n",
    "variable = 'total'\n",
    "# define range for choro intensities/alphas\n",
    "vmin, vmax = min(oy_count_dict.values()), max(oy_count_dict.values())\n",
    "\n",
    "fig, ax = plt.subplots(1, figsize=(15,10))\n",
    "\n",
    "# choose styles for easy modification\n",
    "\n",
    "cmap='Purples'\n",
    "\n",
    "merged.plot(column=variable, cmap=cmap, linewidth=0.8, ax=ax, edgecolor='0.7')\n",
    "ax.axis('off')\n",
    "\n",
    "plt.title('Total Opportunity Youth By Region', fontsize=16)\n",
    "\n",
    "\n",
    "# create choro legend\n",
    "sm = plt.cm.ScalarMappable(cmap=cmap,\n",
    "norm=plt.Normalize(vmin=vmin, vmax=vmax))\n",
    "\n",
    "# sm._A = [] # ostensibly unnecessary\n",
    "\n",
    "cbar = fig.colorbar(sm)\n",
    "fig.savefig('choropleth_total_oy_by_region.png', transparent=True)"
   ]
  },
  {
   "cell_type": "code",
   "execution_count": 39,
   "metadata": {},
   "outputs": [
    {
     "ename": "AttributeError",
     "evalue": "'AxesSubplot' object has no attribute 'data'",
     "output_type": "error",
     "traceback": [
      "\u001b[1;31m---------------------------------------------------------------------------\u001b[0m",
      "\u001b[1;31mAttributeError\u001b[0m                            Traceback (most recent call last)",
      "\u001b[1;32m<ipython-input-39-63225d68b279>\u001b[0m in \u001b[0;36m<module>\u001b[1;34m\u001b[0m\n\u001b[0;32m      1\u001b[0m \u001b[1;31m#hover trace\u001b[0m\u001b[1;33m\u001b[0m\u001b[1;33m\u001b[0m\u001b[1;33m\u001b[0m\u001b[0m\n\u001b[1;32m----> 2\u001b[1;33m \u001b[0mhover_scatter\u001b[0m \u001b[1;33m=\u001b[0m \u001b[1;33m[\u001b[0m\u001b[0mscatt\u001b[0m \u001b[1;32mfor\u001b[0m \u001b[0mscatt\u001b[0m \u001b[1;32min\u001b[0m \u001b[0mfig\u001b[0m\u001b[1;33m.\u001b[0m\u001b[0mdata\u001b[0m \u001b[1;32mif\u001b[0m \u001b[0mscatt\u001b[0m\u001b[1;33m.\u001b[0m\u001b[0mmode\u001b[0m \u001b[1;33m==\u001b[0m \u001b[1;34m'markers'\u001b[0m\u001b[1;33m]\u001b[0m\u001b[1;33m[\u001b[0m\u001b[1;36m0\u001b[0m\u001b[1;33m]\u001b[0m\u001b[1;33m\u001b[0m\u001b[1;33m\u001b[0m\u001b[0m\n\u001b[0m\u001b[0;32m      3\u001b[0m \u001b[1;33m\u001b[0m\u001b[0m\n\u001b[0;32m      4\u001b[0m \u001b[1;32mimport\u001b[0m \u001b[0mre\u001b[0m\u001b[1;33m\u001b[0m\u001b[1;33m\u001b[0m\u001b[0m\n\u001b[0;32m      5\u001b[0m \u001b[1;32mdef\u001b[0m \u001b[0mextract_name\u001b[0m\u001b[1;33m(\u001b[0m\u001b[0mtext_val\u001b[0m\u001b[1;33m)\u001b[0m\u001b[1;33m:\u001b[0m\u001b[1;33m\u001b[0m\u001b[1;33m\u001b[0m\u001b[0m\n",
      "\u001b[1;31mAttributeError\u001b[0m: 'AxesSubplot' object has no attribute 'data'"
     ]
    }
   ],
   "source": [
    "#hover trace\n",
    "hover_scatter = [scatt for scatt in fig.data if scatt.mode == 'markers'][0]\n",
    "\n",
    "import re\n",
    "def extract_name(text_val):\n",
    "    return re.sub(r'PUMACE10: (.*?)<br>.*', r'\\1', text_val)\n",
    "\n",
    "hover_scatter.text = [extract_name(text_val) for text_val in hover_scatter.text]\n",
    "                      \n",
    "hoverscatter.mode = 'markers+text'\n",
    "\n",
    "hover_scatter.textfont.size = 8\n",
    "\n"
   ]
  },
  {
   "cell_type": "code",
   "execution_count": null,
   "metadata": {},
   "outputs": [],
   "source": []
  },
  {
   "cell_type": "code",
   "execution_count": null,
   "metadata": {},
   "outputs": [],
   "source": []
  },
  {
   "cell_type": "code",
   "execution_count": null,
   "metadata": {},
   "outputs": [],
   "source": []
  },
  {
   "cell_type": "code",
   "execution_count": null,
   "metadata": {},
   "outputs": [],
   "source": []
  },
  {
   "cell_type": "code",
   "execution_count": 35,
   "metadata": {},
   "outputs": [
    {
     "data": {
      "image/png": "[encoded data removed]",
      "text/plain": [
       "<Figure size 432x288 with 1 Axes>"
      ]
     },
     "metadata": {},
     "output_type": "display_data"
    }
   ],
   "source": [
    "ax = king_pumas_shp.plot(color='white', edgecolor='black' )\n",
    "fig = south_king_shp.plot(ax=ax, color='red')\n",
    "plt.xticks([])\n",
    "plt.yticks([])\n",
    "plt.title('South King County', color='white')\n",
    "plt.xlabel('King County (in red)', color='white')\n",
    "ax.spines['top'].set_visible(False)\n",
    "ax.spines['right'].set_visible(False)\n",
    "ax.spines['bottom'].set_visible(False)\n",
    "ax.spines['left'].set_visible(False)\n",
    "\n",
    "plt.savefig('south_king_on_king.png', transparent=True)"
   ]
  },
  {
   "cell_type": "code",
   "execution_count": null,
   "metadata": {},
   "outputs": [],
   "source": []
  },
  {
   "cell_type": "code",
   "execution_count": null,
   "metadata": {},
   "outputs": [],
   "source": []
  },
  {
   "cell_type": "code",
   "execution_count": null,
   "metadata": {},
   "outputs": [],
   "source": []
  },
  {
   "cell_type": "code",
   "execution_count": null,
   "metadata": {},
   "outputs": [],
   "source": []
  },
  {
   "cell_type": "code",
   "execution_count": null,
   "metadata": {},
   "outputs": [],
   "source": []
  },
  {
   "cell_type": "code",
   "execution_count": 36,
   "metadata": {},
   "outputs": [],
   "source": [
    "# folium parameters\n",
    "lat = 47.6062\n",
    "long = -122.3321\n",
    "DFW_Map = folium.Map(location=[lat, long], zoom_start=10)"
   ]
  },
  {
   "cell_type": "code",
   "execution_count": 37,
   "metadata": {},
   "outputs": [],
   "source": [
    "# location_marker = folium.map.FeatureGroup()\n",
    "# latitudes = list(df.LAT)\n",
    "# longitudes = list(df.LONG)\n",
    "# labels = list(fa.EVENT_TYPE)\n",
    "\n",
    "# for lat, long, label in zip(latitused, longitudes, labels):\n",
    "#     if label == 'WHAT IS MY LABEL????????':\n",
    "#         folium.Marker(\n",
    "#             location = [lat, long],\n",
    "#             popup=label,\n",
    "#             icon=folium.Icon(color='red', icon='info-sign')# change icon******\n",
    "#         ).add_to(DFW_Map)\n",
    "#     else:\n",
    "#         folium.Marker(\n",
    "#             location = [lat, long],\n",
    "#             popup=label,\n",
    "#             icon=folium.Icon(color='green', icon='info-sign')# change icon******\n",
    "#         ).add_to(DFW_Map)"
   ]
  },
  {
   "cell_type": "code",
   "execution_count": 38,
   "metadata": {},
   "outputs": [],
   "source": [
    "# DFW_Map.add_child(location_marker) #location marker form above, folium.FeatureGroup()\n",
    "# DFW_Map"
   ]
  },
  {
   "cell_type": "code",
   "execution_count": null,
   "metadata": {},
   "outputs": [],
   "source": []
  },
  {
   "cell_type": "code",
   "execution_count": null,
   "metadata": {},
   "outputs": [],
   "source": []
  },
  {
   "cell_type": "code",
   "execution_count": null,
   "metadata": {},
   "outputs": [],
   "source": []
  },
  {
   "cell_type": "code",
   "execution_count": null,
   "metadata": {},
   "outputs": [],
   "source": []
  },
  {
   "cell_type": "code",
   "execution_count": null,
   "metadata": {},
   "outputs": [],
   "source": []
  },
  {
   "cell_type": "code",
   "execution_count": null,
   "metadata": {},
   "outputs": [],
   "source": []
  },
  {
   "cell_type": "code",
   "execution_count": null,
   "metadata": {},
   "outputs": [],
   "source": []
  },
  {
   "cell_type": "code",
   "execution_count": null,
   "metadata": {},
   "outputs": [],
   "source": []
  },
  {
   "cell_type": "code",
   "execution_count": null,
   "metadata": {},
   "outputs": [],
   "source": []
  },
  {
   "cell_type": "code",
   "execution_count": null,
   "metadata": {},
   "outputs": [],
   "source": []
  },
  {
   "cell_type": "code",
   "execution_count": null,
   "metadata": {},
   "outputs": [],
   "source": []
  },
  {
   "cell_type": "code",
   "execution_count": null,
   "metadata": {},
   "outputs": [],
   "source": [
    "#conn.close()"
   ]
  },
  {
   "cell_type": "code",
   "execution_count": null,
   "metadata": {},
   "outputs": [],
   "source": []
  }
 ],
 "metadata": {
  "kernelspec": {
   "display_name": "Python 3 (oy-env)",
   "language": "python",
   "name": "oy-env"
  },
  "language_info": {
   "codemirror_mode": {
    "name": "ipython",
    "version": 3
   },
   "file_extension": ".py",
   "mimetype": "text/x-python",
   "name": "python",
   "nbconvert_exporter": "python",
   "pygments_lexer": "ipython3",
   "version": "3.8.2"
  }
 },
 "nbformat": 4,
 "nbformat_minor": 4
}
