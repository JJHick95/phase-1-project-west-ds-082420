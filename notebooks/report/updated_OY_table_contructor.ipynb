{
 "cells": [
  {
   "cell_type": "markdown",
   "metadata": {},
   "source": [
    "</b> imports and connect to database"
   ]
  },
  {
   "cell_type": "code",
   "execution_count": 81,
   "metadata": {},
   "outputs": [],
   "source": [
    "import psycopg2\n",
    "import pandas as pd\n",
    "import matplotlib.pyplot as plt\n",
    "DBNAME = \"opportunity_youth\"\n",
    "conn = psycopg2.connect(dbname=DBNAME)"
   ]
  },
  {
   "cell_type": "markdown",
   "metadata": {},
   "source": [
    "</b> fetch the relevant records from the pums_2017 table"
   ]
  },
  {
   "cell_type": "code",
   "execution_count": 82,
   "metadata": {},
   "outputs": [
    {
     "data": {
      "text/html": [
       "<div>\n",
       "<style scoped>\n",
       "    .dataframe tbody tr th:only-of-type {\n",
       "        vertical-align: middle;\n",
       "    }\n",
       "\n",
       "    .dataframe tbody tr th {\n",
       "        vertical-align: top;\n",
       "    }\n",
       "\n",
       "    .dataframe thead th {\n",
       "        text-align: right;\n",
       "    }\n",
       "</style>\n",
       "<table border=\"1\" class=\"dataframe\">\n",
       "  <thead>\n",
       "    <tr style=\"text-align: right;\">\n",
       "      <th></th>\n",
       "      <th>rt</th>\n",
       "      <th>serialno</th>\n",
       "      <th>division</th>\n",
       "      <th>sporder</th>\n",
       "      <th>puma</th>\n",
       "      <th>region</th>\n",
       "      <th>st</th>\n",
       "      <th>adjinc</th>\n",
       "      <th>pwgtp</th>\n",
       "      <th>agep</th>\n",
       "      <th>...</th>\n",
       "      <th>pwgtp71</th>\n",
       "      <th>pwgtp72</th>\n",
       "      <th>pwgtp73</th>\n",
       "      <th>pwgtp74</th>\n",
       "      <th>pwgtp75</th>\n",
       "      <th>pwgtp76</th>\n",
       "      <th>pwgtp77</th>\n",
       "      <th>pwgtp78</th>\n",
       "      <th>pwgtp79</th>\n",
       "      <th>pwgtp80</th>\n",
       "    </tr>\n",
       "  </thead>\n",
       "  <tbody>\n",
       "    <tr>\n",
       "      <th>0</th>\n",
       "      <td>P</td>\n",
       "      <td>2013000118713</td>\n",
       "      <td>9</td>\n",
       "      <td>03</td>\n",
       "      <td>11613</td>\n",
       "      <td>4</td>\n",
       "      <td>53</td>\n",
       "      <td>1061971</td>\n",
       "      <td>25.0</td>\n",
       "      <td>23.0</td>\n",
       "      <td>...</td>\n",
       "      <td>26.0</td>\n",
       "      <td>25.0</td>\n",
       "      <td>29.0</td>\n",
       "      <td>6.0</td>\n",
       "      <td>24.0</td>\n",
       "      <td>26.0</td>\n",
       "      <td>25.0</td>\n",
       "      <td>41.0</td>\n",
       "      <td>24.0</td>\n",
       "      <td>43.0</td>\n",
       "    </tr>\n",
       "    <tr>\n",
       "      <th>1</th>\n",
       "      <td>P</td>\n",
       "      <td>2013000121584</td>\n",
       "      <td>9</td>\n",
       "      <td>02</td>\n",
       "      <td>11611</td>\n",
       "      <td>4</td>\n",
       "      <td>53</td>\n",
       "      <td>1061971</td>\n",
       "      <td>19.0</td>\n",
       "      <td>18.0</td>\n",
       "      <td>...</td>\n",
       "      <td>17.0</td>\n",
       "      <td>21.0</td>\n",
       "      <td>32.0</td>\n",
       "      <td>17.0</td>\n",
       "      <td>5.0</td>\n",
       "      <td>12.0</td>\n",
       "      <td>7.0</td>\n",
       "      <td>4.0</td>\n",
       "      <td>30.0</td>\n",
       "      <td>21.0</td>\n",
       "    </tr>\n",
       "    <tr>\n",
       "      <th>2</th>\n",
       "      <td>P</td>\n",
       "      <td>2013000128172</td>\n",
       "      <td>9</td>\n",
       "      <td>01</td>\n",
       "      <td>11612</td>\n",
       "      <td>4</td>\n",
       "      <td>53</td>\n",
       "      <td>1061971</td>\n",
       "      <td>118.0</td>\n",
       "      <td>23.0</td>\n",
       "      <td>...</td>\n",
       "      <td>117.0</td>\n",
       "      <td>171.0</td>\n",
       "      <td>181.0</td>\n",
       "      <td>52.0</td>\n",
       "      <td>106.0</td>\n",
       "      <td>143.0</td>\n",
       "      <td>111.0</td>\n",
       "      <td>32.0</td>\n",
       "      <td>94.0</td>\n",
       "      <td>168.0</td>\n",
       "    </tr>\n",
       "    <tr>\n",
       "      <th>3</th>\n",
       "      <td>P</td>\n",
       "      <td>2013000155051</td>\n",
       "      <td>9</td>\n",
       "      <td>03</td>\n",
       "      <td>11614</td>\n",
       "      <td>4</td>\n",
       "      <td>53</td>\n",
       "      <td>1061971</td>\n",
       "      <td>2.0</td>\n",
       "      <td>19.0</td>\n",
       "      <td>...</td>\n",
       "      <td>1.0</td>\n",
       "      <td>3.0</td>\n",
       "      <td>3.0</td>\n",
       "      <td>1.0</td>\n",
       "      <td>2.0</td>\n",
       "      <td>2.0</td>\n",
       "      <td>1.0</td>\n",
       "      <td>0.0</td>\n",
       "      <td>1.0</td>\n",
       "      <td>2.0</td>\n",
       "    </tr>\n",
       "    <tr>\n",
       "      <th>4</th>\n",
       "      <td>P</td>\n",
       "      <td>2013000166503</td>\n",
       "      <td>9</td>\n",
       "      <td>03</td>\n",
       "      <td>11610</td>\n",
       "      <td>4</td>\n",
       "      <td>53</td>\n",
       "      <td>1061971</td>\n",
       "      <td>41.0</td>\n",
       "      <td>21.0</td>\n",
       "      <td>...</td>\n",
       "      <td>54.0</td>\n",
       "      <td>72.0</td>\n",
       "      <td>37.0</td>\n",
       "      <td>58.0</td>\n",
       "      <td>11.0</td>\n",
       "      <td>11.0</td>\n",
       "      <td>37.0</td>\n",
       "      <td>48.0</td>\n",
       "      <td>45.0</td>\n",
       "      <td>71.0</td>\n",
       "    </tr>\n",
       "    <tr>\n",
       "      <th>...</th>\n",
       "      <td>...</td>\n",
       "      <td>...</td>\n",
       "      <td>...</td>\n",
       "      <td>...</td>\n",
       "      <td>...</td>\n",
       "      <td>...</td>\n",
       "      <td>...</td>\n",
       "      <td>...</td>\n",
       "      <td>...</td>\n",
       "      <td>...</td>\n",
       "      <td>...</td>\n",
       "      <td>...</td>\n",
       "      <td>...</td>\n",
       "      <td>...</td>\n",
       "      <td>...</td>\n",
       "      <td>...</td>\n",
       "      <td>...</td>\n",
       "      <td>...</td>\n",
       "      <td>...</td>\n",
       "      <td>...</td>\n",
       "      <td>...</td>\n",
       "    </tr>\n",
       "    <tr>\n",
       "      <th>386</th>\n",
       "      <td>P</td>\n",
       "      <td>2013000067168</td>\n",
       "      <td>9</td>\n",
       "      <td>03</td>\n",
       "      <td>11615</td>\n",
       "      <td>4</td>\n",
       "      <td>53</td>\n",
       "      <td>1061971</td>\n",
       "      <td>22.0</td>\n",
       "      <td>24.0</td>\n",
       "      <td>...</td>\n",
       "      <td>7.0</td>\n",
       "      <td>20.0</td>\n",
       "      <td>24.0</td>\n",
       "      <td>23.0</td>\n",
       "      <td>41.0</td>\n",
       "      <td>7.0</td>\n",
       "      <td>24.0</td>\n",
       "      <td>24.0</td>\n",
       "      <td>33.0</td>\n",
       "      <td>19.0</td>\n",
       "    </tr>\n",
       "    <tr>\n",
       "      <th>387</th>\n",
       "      <td>P</td>\n",
       "      <td>2013000070516</td>\n",
       "      <td>9</td>\n",
       "      <td>03</td>\n",
       "      <td>11612</td>\n",
       "      <td>4</td>\n",
       "      <td>53</td>\n",
       "      <td>1061971</td>\n",
       "      <td>20.0</td>\n",
       "      <td>19.0</td>\n",
       "      <td>...</td>\n",
       "      <td>37.0</td>\n",
       "      <td>20.0</td>\n",
       "      <td>15.0</td>\n",
       "      <td>32.0</td>\n",
       "      <td>6.0</td>\n",
       "      <td>14.0</td>\n",
       "      <td>5.0</td>\n",
       "      <td>6.0</td>\n",
       "      <td>16.0</td>\n",
       "      <td>18.0</td>\n",
       "    </tr>\n",
       "    <tr>\n",
       "      <th>388</th>\n",
       "      <td>P</td>\n",
       "      <td>2013000106284</td>\n",
       "      <td>9</td>\n",
       "      <td>01</td>\n",
       "      <td>11614</td>\n",
       "      <td>4</td>\n",
       "      <td>53</td>\n",
       "      <td>1061971</td>\n",
       "      <td>4.0</td>\n",
       "      <td>23.0</td>\n",
       "      <td>...</td>\n",
       "      <td>4.0</td>\n",
       "      <td>5.0</td>\n",
       "      <td>4.0</td>\n",
       "      <td>6.0</td>\n",
       "      <td>8.0</td>\n",
       "      <td>5.0</td>\n",
       "      <td>5.0</td>\n",
       "      <td>1.0</td>\n",
       "      <td>1.0</td>\n",
       "      <td>3.0</td>\n",
       "    </tr>\n",
       "    <tr>\n",
       "      <th>389</th>\n",
       "      <td>P</td>\n",
       "      <td>2013000100470</td>\n",
       "      <td>9</td>\n",
       "      <td>04</td>\n",
       "      <td>11613</td>\n",
       "      <td>4</td>\n",
       "      <td>53</td>\n",
       "      <td>1061971</td>\n",
       "      <td>16.0</td>\n",
       "      <td>18.0</td>\n",
       "      <td>...</td>\n",
       "      <td>23.0</td>\n",
       "      <td>3.0</td>\n",
       "      <td>16.0</td>\n",
       "      <td>17.0</td>\n",
       "      <td>11.0</td>\n",
       "      <td>12.0</td>\n",
       "      <td>32.0</td>\n",
       "      <td>29.0</td>\n",
       "      <td>20.0</td>\n",
       "      <td>11.0</td>\n",
       "    </tr>\n",
       "    <tr>\n",
       "      <th>390</th>\n",
       "      <td>P</td>\n",
       "      <td>2013000111689</td>\n",
       "      <td>9</td>\n",
       "      <td>05</td>\n",
       "      <td>11610</td>\n",
       "      <td>4</td>\n",
       "      <td>53</td>\n",
       "      <td>1061971</td>\n",
       "      <td>40.0</td>\n",
       "      <td>19.0</td>\n",
       "      <td>...</td>\n",
       "      <td>61.0</td>\n",
       "      <td>12.0</td>\n",
       "      <td>51.0</td>\n",
       "      <td>12.0</td>\n",
       "      <td>13.0</td>\n",
       "      <td>41.0</td>\n",
       "      <td>37.0</td>\n",
       "      <td>52.0</td>\n",
       "      <td>32.0</td>\n",
       "      <td>36.0</td>\n",
       "    </tr>\n",
       "  </tbody>\n",
       "</table>\n",
       "<p>391 rows × 286 columns</p>\n",
       "</div>"
      ],
      "text/plain": [
       "    rt       serialno division sporder   puma region  st   adjinc  pwgtp  \\\n",
       "0    P  2013000118713        9      03  11613      4  53  1061971   25.0   \n",
       "1    P  2013000121584        9      02  11611      4  53  1061971   19.0   \n",
       "2    P  2013000128172        9      01  11612      4  53  1061971  118.0   \n",
       "3    P  2013000155051        9      03  11614      4  53  1061971    2.0   \n",
       "4    P  2013000166503        9      03  11610      4  53  1061971   41.0   \n",
       "..  ..            ...      ...     ...    ...    ...  ..      ...    ...   \n",
       "386  P  2013000067168        9      03  11615      4  53  1061971   22.0   \n",
       "387  P  2013000070516        9      03  11612      4  53  1061971   20.0   \n",
       "388  P  2013000106284        9      01  11614      4  53  1061971    4.0   \n",
       "389  P  2013000100470        9      04  11613      4  53  1061971   16.0   \n",
       "390  P  2013000111689        9      05  11610      4  53  1061971   40.0   \n",
       "\n",
       "     agep  ...  pwgtp71  pwgtp72 pwgtp73 pwgtp74 pwgtp75 pwgtp76 pwgtp77  \\\n",
       "0    23.0  ...     26.0     25.0    29.0     6.0    24.0    26.0    25.0   \n",
       "1    18.0  ...     17.0     21.0    32.0    17.0     5.0    12.0     7.0   \n",
       "2    23.0  ...    117.0    171.0   181.0    52.0   106.0   143.0   111.0   \n",
       "3    19.0  ...      1.0      3.0     3.0     1.0     2.0     2.0     1.0   \n",
       "4    21.0  ...     54.0     72.0    37.0    58.0    11.0    11.0    37.0   \n",
       "..    ...  ...      ...      ...     ...     ...     ...     ...     ...   \n",
       "386  24.0  ...      7.0     20.0    24.0    23.0    41.0     7.0    24.0   \n",
       "387  19.0  ...     37.0     20.0    15.0    32.0     6.0    14.0     5.0   \n",
       "388  23.0  ...      4.0      5.0     4.0     6.0     8.0     5.0     5.0   \n",
       "389  18.0  ...     23.0      3.0    16.0    17.0    11.0    12.0    32.0   \n",
       "390  19.0  ...     61.0     12.0    51.0    12.0    13.0    41.0    37.0   \n",
       "\n",
       "    pwgtp78 pwgtp79 pwgtp80  \n",
       "0      41.0    24.0    43.0  \n",
       "1       4.0    30.0    21.0  \n",
       "2      32.0    94.0   168.0  \n",
       "3       0.0     1.0     2.0  \n",
       "4      48.0    45.0    71.0  \n",
       "..      ...     ...     ...  \n",
       "386    24.0    33.0    19.0  \n",
       "387     6.0    16.0    18.0  \n",
       "388     1.0     1.0     3.0  \n",
       "389    29.0    20.0    11.0  \n",
       "390    52.0    32.0    36.0  \n",
       "\n",
       "[391 rows x 286 columns]"
      ]
     },
     "execution_count": 82,
     "metadata": {},
     "output_type": "execute_result"
    }
   ],
   "source": [
    "#fething oportunity youth in south king county\n",
    "\n",
    "skc_OY_db = pd.read_sql('''\n",
    "        SELECT *\n",
    "        FROM pums_2017\n",
    "        WHERE puma SIMILAR TO '1161(0|1|2|3|4|5)'\n",
    "        AND agep >= 16\n",
    "        AND agep <= 24\n",
    "        AND sch = '1'\n",
    "        AND esr SIMILAR TO '%(3|6)%'\n",
    "        \n",
    "''', conn)\n",
    "skc_OY_db"
   ]
  },
  {
   "cell_type": "code",
   "execution_count": 83,
   "metadata": {},
   "outputs": [
    {
     "data": {
      "text/html": [
       "<div>\n",
       "<style scoped>\n",
       "    .dataframe tbody tr th:only-of-type {\n",
       "        vertical-align: middle;\n",
       "    }\n",
       "\n",
       "    .dataframe tbody tr th {\n",
       "        vertical-align: top;\n",
       "    }\n",
       "\n",
       "    .dataframe thead th {\n",
       "        text-align: right;\n",
       "    }\n",
       "</style>\n",
       "<table border=\"1\" class=\"dataframe\">\n",
       "  <thead>\n",
       "    <tr style=\"text-align: right;\">\n",
       "      <th></th>\n",
       "      <th>rt</th>\n",
       "      <th>serialno</th>\n",
       "      <th>division</th>\n",
       "      <th>sporder</th>\n",
       "      <th>puma</th>\n",
       "      <th>region</th>\n",
       "      <th>st</th>\n",
       "      <th>adjinc</th>\n",
       "      <th>pwgtp</th>\n",
       "      <th>agep</th>\n",
       "      <th>...</th>\n",
       "      <th>pwgtp71</th>\n",
       "      <th>pwgtp72</th>\n",
       "      <th>pwgtp73</th>\n",
       "      <th>pwgtp74</th>\n",
       "      <th>pwgtp75</th>\n",
       "      <th>pwgtp76</th>\n",
       "      <th>pwgtp77</th>\n",
       "      <th>pwgtp78</th>\n",
       "      <th>pwgtp79</th>\n",
       "      <th>pwgtp80</th>\n",
       "    </tr>\n",
       "  </thead>\n",
       "  <tbody>\n",
       "    <tr>\n",
       "      <th>0</th>\n",
       "      <td>P</td>\n",
       "      <td>2013000115983</td>\n",
       "      <td>9</td>\n",
       "      <td>03</td>\n",
       "      <td>11614</td>\n",
       "      <td>4</td>\n",
       "      <td>53</td>\n",
       "      <td>1061971</td>\n",
       "      <td>4.0</td>\n",
       "      <td>16.0</td>\n",
       "      <td>...</td>\n",
       "      <td>4.0</td>\n",
       "      <td>2.0</td>\n",
       "      <td>4.0</td>\n",
       "      <td>5.0</td>\n",
       "      <td>6.0</td>\n",
       "      <td>8.0</td>\n",
       "      <td>0.0</td>\n",
       "      <td>1.0</td>\n",
       "      <td>7.0</td>\n",
       "      <td>8.0</td>\n",
       "    </tr>\n",
       "    <tr>\n",
       "      <th>1</th>\n",
       "      <td>P</td>\n",
       "      <td>2013000115983</td>\n",
       "      <td>9</td>\n",
       "      <td>06</td>\n",
       "      <td>11614</td>\n",
       "      <td>4</td>\n",
       "      <td>53</td>\n",
       "      <td>1061971</td>\n",
       "      <td>7.0</td>\n",
       "      <td>24.0</td>\n",
       "      <td>...</td>\n",
       "      <td>6.0</td>\n",
       "      <td>2.0</td>\n",
       "      <td>7.0</td>\n",
       "      <td>8.0</td>\n",
       "      <td>15.0</td>\n",
       "      <td>13.0</td>\n",
       "      <td>2.0</td>\n",
       "      <td>1.0</td>\n",
       "      <td>9.0</td>\n",
       "      <td>11.0</td>\n",
       "    </tr>\n",
       "    <tr>\n",
       "      <th>2</th>\n",
       "      <td>P</td>\n",
       "      <td>2013000118713</td>\n",
       "      <td>9</td>\n",
       "      <td>03</td>\n",
       "      <td>11613</td>\n",
       "      <td>4</td>\n",
       "      <td>53</td>\n",
       "      <td>1061971</td>\n",
       "      <td>25.0</td>\n",
       "      <td>23.0</td>\n",
       "      <td>...</td>\n",
       "      <td>26.0</td>\n",
       "      <td>25.0</td>\n",
       "      <td>29.0</td>\n",
       "      <td>6.0</td>\n",
       "      <td>24.0</td>\n",
       "      <td>26.0</td>\n",
       "      <td>25.0</td>\n",
       "      <td>41.0</td>\n",
       "      <td>24.0</td>\n",
       "      <td>43.0</td>\n",
       "    </tr>\n",
       "    <tr>\n",
       "      <th>3</th>\n",
       "      <td>P</td>\n",
       "      <td>2013000121584</td>\n",
       "      <td>9</td>\n",
       "      <td>02</td>\n",
       "      <td>11611</td>\n",
       "      <td>4</td>\n",
       "      <td>53</td>\n",
       "      <td>1061971</td>\n",
       "      <td>19.0</td>\n",
       "      <td>18.0</td>\n",
       "      <td>...</td>\n",
       "      <td>17.0</td>\n",
       "      <td>21.0</td>\n",
       "      <td>32.0</td>\n",
       "      <td>17.0</td>\n",
       "      <td>5.0</td>\n",
       "      <td>12.0</td>\n",
       "      <td>7.0</td>\n",
       "      <td>4.0</td>\n",
       "      <td>30.0</td>\n",
       "      <td>21.0</td>\n",
       "    </tr>\n",
       "    <tr>\n",
       "      <th>4</th>\n",
       "      <td>P</td>\n",
       "      <td>2013000121584</td>\n",
       "      <td>9</td>\n",
       "      <td>03</td>\n",
       "      <td>11611</td>\n",
       "      <td>4</td>\n",
       "      <td>53</td>\n",
       "      <td>1061971</td>\n",
       "      <td>18.0</td>\n",
       "      <td>18.0</td>\n",
       "      <td>...</td>\n",
       "      <td>17.0</td>\n",
       "      <td>21.0</td>\n",
       "      <td>32.0</td>\n",
       "      <td>18.0</td>\n",
       "      <td>5.0</td>\n",
       "      <td>11.0</td>\n",
       "      <td>7.0</td>\n",
       "      <td>3.0</td>\n",
       "      <td>30.0</td>\n",
       "      <td>19.0</td>\n",
       "    </tr>\n",
       "    <tr>\n",
       "      <th>...</th>\n",
       "      <td>...</td>\n",
       "      <td>...</td>\n",
       "      <td>...</td>\n",
       "      <td>...</td>\n",
       "      <td>...</td>\n",
       "      <td>...</td>\n",
       "      <td>...</td>\n",
       "      <td>...</td>\n",
       "      <td>...</td>\n",
       "      <td>...</td>\n",
       "      <td>...</td>\n",
       "      <td>...</td>\n",
       "      <td>...</td>\n",
       "      <td>...</td>\n",
       "      <td>...</td>\n",
       "      <td>...</td>\n",
       "      <td>...</td>\n",
       "      <td>...</td>\n",
       "      <td>...</td>\n",
       "      <td>...</td>\n",
       "      <td>...</td>\n",
       "    </tr>\n",
       "    <tr>\n",
       "      <th>3477</th>\n",
       "      <td>P</td>\n",
       "      <td>2013000106284</td>\n",
       "      <td>9</td>\n",
       "      <td>01</td>\n",
       "      <td>11614</td>\n",
       "      <td>4</td>\n",
       "      <td>53</td>\n",
       "      <td>1061971</td>\n",
       "      <td>4.0</td>\n",
       "      <td>23.0</td>\n",
       "      <td>...</td>\n",
       "      <td>4.0</td>\n",
       "      <td>5.0</td>\n",
       "      <td>4.0</td>\n",
       "      <td>6.0</td>\n",
       "      <td>8.0</td>\n",
       "      <td>5.0</td>\n",
       "      <td>5.0</td>\n",
       "      <td>1.0</td>\n",
       "      <td>1.0</td>\n",
       "      <td>3.0</td>\n",
       "    </tr>\n",
       "    <tr>\n",
       "      <th>3478</th>\n",
       "      <td>P</td>\n",
       "      <td>2013000106963</td>\n",
       "      <td>9</td>\n",
       "      <td>02</td>\n",
       "      <td>11612</td>\n",
       "      <td>4</td>\n",
       "      <td>53</td>\n",
       "      <td>1061971</td>\n",
       "      <td>43.0</td>\n",
       "      <td>19.0</td>\n",
       "      <td>...</td>\n",
       "      <td>15.0</td>\n",
       "      <td>50.0</td>\n",
       "      <td>43.0</td>\n",
       "      <td>41.0</td>\n",
       "      <td>15.0</td>\n",
       "      <td>28.0</td>\n",
       "      <td>41.0</td>\n",
       "      <td>57.0</td>\n",
       "      <td>53.0</td>\n",
       "      <td>18.0</td>\n",
       "    </tr>\n",
       "    <tr>\n",
       "      <th>3479</th>\n",
       "      <td>P</td>\n",
       "      <td>2013000106963</td>\n",
       "      <td>9</td>\n",
       "      <td>03</td>\n",
       "      <td>11612</td>\n",
       "      <td>4</td>\n",
       "      <td>53</td>\n",
       "      <td>1061971</td>\n",
       "      <td>24.0</td>\n",
       "      <td>16.0</td>\n",
       "      <td>...</td>\n",
       "      <td>7.0</td>\n",
       "      <td>25.0</td>\n",
       "      <td>38.0</td>\n",
       "      <td>23.0</td>\n",
       "      <td>7.0</td>\n",
       "      <td>25.0</td>\n",
       "      <td>31.0</td>\n",
       "      <td>19.0</td>\n",
       "      <td>34.0</td>\n",
       "      <td>9.0</td>\n",
       "    </tr>\n",
       "    <tr>\n",
       "      <th>3480</th>\n",
       "      <td>P</td>\n",
       "      <td>2013000103566</td>\n",
       "      <td>9</td>\n",
       "      <td>03</td>\n",
       "      <td>11611</td>\n",
       "      <td>4</td>\n",
       "      <td>53</td>\n",
       "      <td>1061971</td>\n",
       "      <td>20.0</td>\n",
       "      <td>17.0</td>\n",
       "      <td>...</td>\n",
       "      <td>37.0</td>\n",
       "      <td>18.0</td>\n",
       "      <td>32.0</td>\n",
       "      <td>4.0</td>\n",
       "      <td>17.0</td>\n",
       "      <td>28.0</td>\n",
       "      <td>40.0</td>\n",
       "      <td>18.0</td>\n",
       "      <td>21.0</td>\n",
       "      <td>19.0</td>\n",
       "    </tr>\n",
       "    <tr>\n",
       "      <th>3481</th>\n",
       "      <td>P</td>\n",
       "      <td>2013000111689</td>\n",
       "      <td>9</td>\n",
       "      <td>05</td>\n",
       "      <td>11610</td>\n",
       "      <td>4</td>\n",
       "      <td>53</td>\n",
       "      <td>1061971</td>\n",
       "      <td>40.0</td>\n",
       "      <td>19.0</td>\n",
       "      <td>...</td>\n",
       "      <td>61.0</td>\n",
       "      <td>12.0</td>\n",
       "      <td>51.0</td>\n",
       "      <td>12.0</td>\n",
       "      <td>13.0</td>\n",
       "      <td>41.0</td>\n",
       "      <td>37.0</td>\n",
       "      <td>52.0</td>\n",
       "      <td>32.0</td>\n",
       "      <td>36.0</td>\n",
       "    </tr>\n",
       "  </tbody>\n",
       "</table>\n",
       "<p>3482 rows × 286 columns</p>\n",
       "</div>"
      ],
      "text/plain": [
       "     rt       serialno division sporder   puma region  st   adjinc  pwgtp  \\\n",
       "0     P  2013000115983        9      03  11614      4  53  1061971    4.0   \n",
       "1     P  2013000115983        9      06  11614      4  53  1061971    7.0   \n",
       "2     P  2013000118713        9      03  11613      4  53  1061971   25.0   \n",
       "3     P  2013000121584        9      02  11611      4  53  1061971   19.0   \n",
       "4     P  2013000121584        9      03  11611      4  53  1061971   18.0   \n",
       "...  ..            ...      ...     ...    ...    ...  ..      ...    ...   \n",
       "3477  P  2013000106284        9      01  11614      4  53  1061971    4.0   \n",
       "3478  P  2013000106963        9      02  11612      4  53  1061971   43.0   \n",
       "3479  P  2013000106963        9      03  11612      4  53  1061971   24.0   \n",
       "3480  P  2013000103566        9      03  11611      4  53  1061971   20.0   \n",
       "3481  P  2013000111689        9      05  11610      4  53  1061971   40.0   \n",
       "\n",
       "      agep  ...  pwgtp71  pwgtp72 pwgtp73 pwgtp74 pwgtp75 pwgtp76 pwgtp77  \\\n",
       "0     16.0  ...      4.0      2.0     4.0     5.0     6.0     8.0     0.0   \n",
       "1     24.0  ...      6.0      2.0     7.0     8.0    15.0    13.0     2.0   \n",
       "2     23.0  ...     26.0     25.0    29.0     6.0    24.0    26.0    25.0   \n",
       "3     18.0  ...     17.0     21.0    32.0    17.0     5.0    12.0     7.0   \n",
       "4     18.0  ...     17.0     21.0    32.0    18.0     5.0    11.0     7.0   \n",
       "...    ...  ...      ...      ...     ...     ...     ...     ...     ...   \n",
       "3477  23.0  ...      4.0      5.0     4.0     6.0     8.0     5.0     5.0   \n",
       "3478  19.0  ...     15.0     50.0    43.0    41.0    15.0    28.0    41.0   \n",
       "3479  16.0  ...      7.0     25.0    38.0    23.0     7.0    25.0    31.0   \n",
       "3480  17.0  ...     37.0     18.0    32.0     4.0    17.0    28.0    40.0   \n",
       "3481  19.0  ...     61.0     12.0    51.0    12.0    13.0    41.0    37.0   \n",
       "\n",
       "     pwgtp78 pwgtp79 pwgtp80  \n",
       "0        1.0     7.0     8.0  \n",
       "1        1.0     9.0    11.0  \n",
       "2       41.0    24.0    43.0  \n",
       "3        4.0    30.0    21.0  \n",
       "4        3.0    30.0    19.0  \n",
       "...      ...     ...     ...  \n",
       "3477     1.0     1.0     3.0  \n",
       "3478    57.0    53.0    18.0  \n",
       "3479    19.0    34.0     9.0  \n",
       "3480    18.0    21.0    19.0  \n",
       "3481    52.0    32.0    36.0  \n",
       "\n",
       "[3482 rows x 286 columns]"
      ]
     },
     "execution_count": 83,
     "metadata": {},
     "output_type": "execute_result"
    }
   ],
   "source": [
    "#fetching all residents from south king county within the OY age group\n",
    "\n",
    "skc_allRes_db = pd.read_sql('''\n",
    "        SELECT *\n",
    "        FROM pums_2017\n",
    "        WHERE puma SIMILAR TO '1161(0|1|2|3|4|5)'\n",
    "        AND agep >= 16\n",
    "        AND agep <= 24\n",
    "''', conn)\n",
    "skc_allRes_db"
   ]
  },
  {
   "cell_type": "code",
   "execution_count": 84,
   "metadata": {},
   "outputs": [
    {
     "name": "stdout",
     "output_type": "stream",
     "text": [
      "12.358674009990334 10614.0 85883.0\n"
     ]
    }
   ],
   "source": [
    "#checking percentage of 16-24 year olds in skc who qualify as OY\n",
    "#output is: percentage | # of OY in SKC | # of 16-24 year olds in SKC\n",
    "\n",
    "print((sum(skc_OY_db['pwgtp'])/sum(skc_allRes_db['pwgtp']))*100, sum(skc_OY_db['pwgtp']), sum(skc_allRes_db['pwgtp']))"
   ]
  },
  {
   "cell_type": "markdown",
   "metadata": {},
   "source": [
    "<b> create two subplots: one for each half of the OY status by age table"
   ]
  },
  {
   "cell_type": "code",
   "execution_count": 115,
   "metadata": {},
   "outputs": [],
   "source": [
    "#create row and column labels for the total_pop table\n",
    "\n",
    "age_range_labels = [' test ', '16-18', '19-21', '22-24', 'Totals']\n",
    "tpop_rows = ['Total Poulation', 'Opportunity Youth', 'Working Without Diploma', 'Not an Opportunity Youth']\n",
    "\n",
    "#create row and column labels for the opporunity_youth table\n",
    "\n",
    "oy_rows = ['Oppurtunity Youth', 'No Diploma', 'Highschool Diploma or GED', 'Some College/ No Degree', 'Degree (Associate or Higher)']\n"
   ]
  },
  {
   "cell_type": "code",
   "execution_count": 86,
   "metadata": {},
   "outputs": [],
   "source": [
    "#gather totals and percentages from colected data\n",
    "\n",
    "age_ranges = [(16, 18), (19, 21), (22, 24)]\n",
    "tpop_data = []\n",
    "oy_data = []\n",
    "\n",
    "#store totals for each age group for both tables\n",
    "tpop_data.append([])\n",
    "oy_data.append([])\n",
    "total_tpop = 0\n",
    "total_oy = 0\n",
    "age_groupT_dfs = []\n",
    "age_groupOY_dfs = []\n",
    "for age_range in age_ranges:\n",
    "    age_groupT_dfs.append(skc_allRes_db.loc[lambda db: (db['agep'] >= age_range[0]) & (db['agep'] <= age_range[1])])\n",
    "    age_groupOY_dfs.append(skc_OY_db.loc[lambda db: (db['agep'] >= age_range[0]) & (db['agep'] <= age_range[1])])\n",
    "for index in range(0, 3):\n",
    "    tpop_total = age_groupT_dfs[index]['pwgtp'].sum()\n",
    "    oy_total = age_groupOY_dfs[index]['pwgtp'].sum()\n",
    "    tpop_data[0].append(['100%', tpop_total])\n",
    "    total_tpop += tpop_total\n",
    "    oy_data[0].append(['100%', oy_total])\n",
    "    total_oy += oy_total\n",
    "tpop_data[0].append(['100%', total_tpop])\n",
    "oy_data[0].append(['100%', total_oy])\n",
    "\n",
    "#fill in the rows for the total_pop table\n",
    "\n",
    "oy_row = []\n",
    "wnd_row = []\n",
    "not_oy_row = []\n",
    "for index in range(0, 3):\n",
    "    wnd_mask = ((age_groupT_dfs[index]['esr'] == '1') | (age_groupT_dfs[index]['esr'] == '4')) & ((age_groupT_dfs[index]['schl'] == '14') | (age_groupT_dfs[index]['schl'] == '15'))\n",
    "    wnd_df = age_groupT_dfs[index].loc[wnd_mask]\n",
    "    not_oy_df = age_groupT_dfs[index].loc[wnd_mask ^ True]\n",
    "    oy_row.append([f'{round((oy_data[0][index][1] / tpop_data[0][index][1]) * 100, 1)}%', oy_data[0][index][1]])\n",
    "    wnd_total = wnd_df['pwgtp'].sum()\n",
    "    wnd_row.append([f'{round((wnd_total / tpop_data[0][index][1]) * 100, 1)}%', wnd_total])\n",
    "    not_oy = tpop_data[0][index][1] - oy_row[index][1] - wnd_row[index][1]\n",
    "    not_oy_row.append([f'{round((not_oy / tpop_data[0][index][1]) * 100, 1)}%', not_oy])\n",
    "tpop_data.append(oy_row)\n",
    "tpop_data.append(wnd_row)\n",
    "tpop_data.append(not_oy_row)\n",
    "\n",
    "\n",
    "#fill in the totals for total_pop rows\n",
    "for row in range(1, 4):\n",
    "    row_total = sum([item[1] for item in tpop_data[row]])\n",
    "    tpop_data[row].append([f'{round((row_total / tpop_data[0][3][1]) * 100, 1)}%', row_total])\n",
    "    sum_totals += row_total\n",
    "\n",
    "\n",
    "#fill in row values and percentages for OY_pop table\n",
    "no_dip_row = []\n",
    "dip_row = []\n",
    "no_deg_row = []\n",
    "deg_row = []\n",
    "\n",
    "###relevant schl value description\n",
    "#\n",
    "# '15': 12th grade/ no diploma\n",
    "# '16' & '17': diploma/GED\n",
    "# '18' & '19': some college but no degree\n",
    "# '20' -> end: associates degree or better\n",
    "#\n",
    "###\n",
    "\n",
    "for index in range(0, 3):\n",
    "    col = age_groupOY_dfs[index]\n",
    "    edu_breakdown = col.groupby(by='schl').sum()['pwgtp']\n",
    "    no_dip = edu_breakdown.loc[:'15'].sum()\n",
    "    dip = edu_breakdown.loc['16':'17'].sum()\n",
    "    no_deg = edu_breakdown.loc['18':'19'].sum()\n",
    "    deg = edu_breakdown.loc['20':].sum()\n",
    "    no_dip_row.append([f'{round((no_dip/oy_data[0][index][1]) * 100, 1)}%', no_dip])\n",
    "    dip_row.append([f'{round((dip/oy_data[0][index][1]) * 100, 1)}%', dip])\n",
    "    no_deg_row.append([f'{round((no_deg/oy_data[0][index][1]) * 100, 1)}%', no_deg])\n",
    "    deg_row.append([f'{round((deg/oy_data[0][index][1]) * 100, 1)}%', deg])\n",
    "oy_data.append(no_dip_row)\n",
    "oy_data.append(dip_row)\n",
    "oy_data.append(no_deg_row)\n",
    "oy_data.append(deg_row)\n",
    "\n",
    "#fill in totals column\n",
    "\n",
    "for row in range(1, 5):\n",
    "    row_total = sum([item[1] for item in oy_data[row]])\n",
    "    oy_data[row].append([f'{round((row_total / oy_data[0][3][1]) * 100, 1)}%', row_total])\n",
    "    sum_totals += row_total\n",
    "\n",
    "\n"
   ]
  },
  {
   "cell_type": "code",
   "execution_count": 107,
   "metadata": {},
   "outputs": [
    {
     "data": {
      "text/plain": [
       "[['Oppurtunity Youth',\n",
       "  '100%   1815',\n",
       "  '100%   3902',\n",
       "  '100%   4897',\n",
       "  '100%   10614'],\n",
       " ['No Diploma', '50.5%   916', '28.5%   1112', '27.5%   1349', '31.8%   3377'],\n",
       " ['Highschool Diploma or GED',\n",
       "  '43.0%   781',\n",
       "  '55.8%   2176',\n",
       "  '43.6%   2135',\n",
       "  '48.0%   5092'],\n",
       " ['Some College/ No Degree',\n",
       "  '6.5%   118',\n",
       "  '13.4%   521',\n",
       "  '20.4%   1000',\n",
       "  '15.4%   1639'],\n",
       " ['Degree (Associate or Higher)',\n",
       "  '0.0%   0',\n",
       "  '2.4%   93',\n",
       "  '8.4%   413',\n",
       "  '4.8%   506']]"
      ]
     },
     "execution_count": 107,
     "metadata": {},
     "output_type": "execute_result"
    }
   ],
   "source": [
    "#format data into 2d list of strings for entry into tables\n",
    "\n",
    "tpop_cell_text = []\n",
    "oy_cell_text = []\n",
    "for row in tpop_data:\n",
    "    text_row = [tpop_rows[tpop_data.index(row)]]\n",
    "    for col in row:\n",
    "        text_row.append(f'{col[0]}   {int(col[1])}')\n",
    "    tpop_cell_text.append(text_row)\n",
    "for row in oy_data:\n",
    "    text_row = [oy_rows[oy_data.index(row)]]\n",
    "    for col in row:\n",
    "        text_row.append(f'{col[0]}   {int(col[1])}')\n",
    "    oy_cell_text.append(text_row)\n",
    "oy_cell_text"
   ]
  },
  {
   "cell_type": "code",
   "execution_count": 114,
   "metadata": {},
   "outputs": [
    {
     "data": {
      "text/plain": [
       "[['Total Poulation',\n",
       "  '100%   30141',\n",
       "  '100%   25486',\n",
       "  '100%   30256',\n",
       "  '100%   85883'],\n",
       " ['Opportunity Youth',\n",
       "  '6.0%   1815',\n",
       "  '15.3%   3902',\n",
       "  '16.2%   4897',\n",
       "  '12.4%   10614'],\n",
       " ['Working Without Diploma',\n",
       "  '8.8%   2655',\n",
       "  '4.1%   1045',\n",
       "  '3.0%   914',\n",
       "  '5.4%   4614'],\n",
       " ['Not an Opportunity Youth',\n",
       "  '85.2%   25671',\n",
       "  '80.6%   20539',\n",
       "  '80.8%   24445',\n",
       "  '82.3%   70655']]"
      ]
     },
     "execution_count": 114,
     "metadata": {},
     "output_type": "execute_result"
    }
   ],
   "source": [
    "tpop_cell_text"
   ]
  },
  {
   "cell_type": "code",
   "execution_count": 116,
   "metadata": {},
   "outputs": [
    {
     "data": {
      "application/vnd.plotly.v1+json": {
       "config": {
        "plotlyServerURL": "https://plot.ly"
       },
       "data": [
        {
         "cells": {
          "align": "center",
          "fill": {
           "color": "lightgray"
          },
          "line": {
           "color": "darkslategray"
          },
          "values": [
           [
            "Total Poulation",
            "100%   30141",
            "100%   25486",
            "100%   30256",
            "100%   85883"
           ],
           [
            "Opportunity Youth",
            "6.0%   1815",
            "15.3%   3902",
            "16.2%   4897",
            "12.4%   10614"
           ],
           [
            "Working Without Diploma",
            "8.8%   2655",
            "4.1%   1045",
            "3.0%   914",
            "5.4%   4614"
           ],
           [
            "Not an Opportunity Youth",
            "85.2%   25671",
            "80.6%   20539",
            "80.8%   24445",
            "82.3%   70655"
           ]
          ]
         },
         "header": {
          "align": "center",
          "fill": {
           "color": "lightblue"
          },
          "line": {
           "color": "darkslategray"
          },
          "values": [
           " test ",
           "16-18",
           "19-21",
           "22-24",
           "Totals"
          ]
         },
         "type": "table"
        }
       ],
       "layout": {
        "template": {
         "data": {
          "bar": [
           {
            "error_x": {
             "color": "#2a3f5f"
            },
            "error_y": {
             "color": "#2a3f5f"
            },
            "marker": {
             "line": {
              "color": "#E5ECF6",
              "width": 0.5
             }
            },
            "type": "bar"
           }
          ],
          "barpolar": [
           {
            "marker": {
             "line": {
              "color": "#E5ECF6",
              "width": 0.5
             }
            },
            "type": "barpolar"
           }
          ],
          "carpet": [
           {
            "aaxis": {
             "endlinecolor": "#2a3f5f",
             "gridcolor": "white",
             "linecolor": "white",
             "minorgridcolor": "white",
             "startlinecolor": "#2a3f5f"
            },
            "baxis": {
             "endlinecolor": "#2a3f5f",
             "gridcolor": "white",
             "linecolor": "white",
             "minorgridcolor": "white",
             "startlinecolor": "#2a3f5f"
            },
            "type": "carpet"
           }
          ],
          "choropleth": [
           {
            "colorbar": {
             "outlinewidth": 0,
             "ticks": ""
            },
            "type": "choropleth"
           }
          ],
          "contour": [
           {
            "colorbar": {
             "outlinewidth": 0,
             "ticks": ""
            },
            "colorscale": [
             [
              0,
              "#0d0887"
             ],
             [
              0.1111111111111111,
              "#46039f"
             ],
             [
              0.2222222222222222,
              "#7201a8"
             ],
             [
              0.3333333333333333,
              "#9c179e"
             ],
             [
              0.4444444444444444,
              "#bd3786"
             ],
             [
              0.5555555555555556,
              "#d8576b"
             ],
             [
              0.6666666666666666,
              "#ed7953"
             ],
             [
              0.7777777777777778,
              "#fb9f3a"
             ],
             [
              0.8888888888888888,
              "#fdca26"
             ],
             [
              1,
              "#f0f921"
             ]
            ],
            "type": "contour"
           }
          ],
          "contourcarpet": [
           {
            "colorbar": {
             "outlinewidth": 0,
             "ticks": ""
            },
            "type": "contourcarpet"
           }
          ],
          "heatmap": [
           {
            "colorbar": {
             "outlinewidth": 0,
             "ticks": ""
            },
            "colorscale": [
             [
              0,
              "#0d0887"
             ],
             [
              0.1111111111111111,
              "#46039f"
             ],
             [
              0.2222222222222222,
              "#7201a8"
             ],
             [
              0.3333333333333333,
              "#9c179e"
             ],
             [
              0.4444444444444444,
              "#bd3786"
             ],
             [
              0.5555555555555556,
              "#d8576b"
             ],
             [
              0.6666666666666666,
              "#ed7953"
             ],
             [
              0.7777777777777778,
              "#fb9f3a"
             ],
             [
              0.8888888888888888,
              "#fdca26"
             ],
             [
              1,
              "#f0f921"
             ]
            ],
            "type": "heatmap"
           }
          ],
          "heatmapgl": [
           {
            "colorbar": {
             "outlinewidth": 0,
             "ticks": ""
            },
            "colorscale": [
             [
              0,
              "#0d0887"
             ],
             [
              0.1111111111111111,
              "#46039f"
             ],
             [
              0.2222222222222222,
              "#7201a8"
             ],
             [
              0.3333333333333333,
              "#9c179e"
             ],
             [
              0.4444444444444444,
              "#bd3786"
             ],
             [
              0.5555555555555556,
              "#d8576b"
             ],
             [
              0.6666666666666666,
              "#ed7953"
             ],
             [
              0.7777777777777778,
              "#fb9f3a"
             ],
             [
              0.8888888888888888,
              "#fdca26"
             ],
             [
              1,
              "#f0f921"
             ]
            ],
            "type": "heatmapgl"
           }
          ],
          "histogram": [
           {
            "marker": {
             "colorbar": {
              "outlinewidth": 0,
              "ticks": ""
             }
            },
            "type": "histogram"
           }
          ],
          "histogram2d": [
           {
            "colorbar": {
             "outlinewidth": 0,
             "ticks": ""
            },
            "colorscale": [
             [
              0,
              "#0d0887"
             ],
             [
              0.1111111111111111,
              "#46039f"
             ],
             [
              0.2222222222222222,
              "#7201a8"
             ],
             [
              0.3333333333333333,
              "#9c179e"
             ],
             [
              0.4444444444444444,
              "#bd3786"
             ],
             [
              0.5555555555555556,
              "#d8576b"
             ],
             [
              0.6666666666666666,
              "#ed7953"
             ],
             [
              0.7777777777777778,
              "#fb9f3a"
             ],
             [
              0.8888888888888888,
              "#fdca26"
             ],
             [
              1,
              "#f0f921"
             ]
            ],
            "type": "histogram2d"
           }
          ],
          "histogram2dcontour": [
           {
            "colorbar": {
             "outlinewidth": 0,
             "ticks": ""
            },
            "colorscale": [
             [
              0,
              "#0d0887"
             ],
             [
              0.1111111111111111,
              "#46039f"
             ],
             [
              0.2222222222222222,
              "#7201a8"
             ],
             [
              0.3333333333333333,
              "#9c179e"
             ],
             [
              0.4444444444444444,
              "#bd3786"
             ],
             [
              0.5555555555555556,
              "#d8576b"
             ],
             [
              0.6666666666666666,
              "#ed7953"
             ],
             [
              0.7777777777777778,
              "#fb9f3a"
             ],
             [
              0.8888888888888888,
              "#fdca26"
             ],
             [
              1,
              "#f0f921"
             ]
            ],
            "type": "histogram2dcontour"
           }
          ],
          "mesh3d": [
           {
            "colorbar": {
             "outlinewidth": 0,
             "ticks": ""
            },
            "type": "mesh3d"
           }
          ],
          "parcoords": [
           {
            "line": {
             "colorbar": {
              "outlinewidth": 0,
              "ticks": ""
             }
            },
            "type": "parcoords"
           }
          ],
          "pie": [
           {
            "automargin": true,
            "type": "pie"
           }
          ],
          "scatter": [
           {
            "marker": {
             "colorbar": {
              "outlinewidth": 0,
              "ticks": ""
             }
            },
            "type": "scatter"
           }
          ],
          "scatter3d": [
           {
            "line": {
             "colorbar": {
              "outlinewidth": 0,
              "ticks": ""
             }
            },
            "marker": {
             "colorbar": {
              "outlinewidth": 0,
              "ticks": ""
             }
            },
            "type": "scatter3d"
           }
          ],
          "scattercarpet": [
           {
            "marker": {
             "colorbar": {
              "outlinewidth": 0,
              "ticks": ""
             }
            },
            "type": "scattercarpet"
           }
          ],
          "scattergeo": [
           {
            "marker": {
             "colorbar": {
              "outlinewidth": 0,
              "ticks": ""
             }
            },
            "type": "scattergeo"
           }
          ],
          "scattergl": [
           {
            "marker": {
             "colorbar": {
              "outlinewidth": 0,
              "ticks": ""
             }
            },
            "type": "scattergl"
           }
          ],
          "scattermapbox": [
           {
            "marker": {
             "colorbar": {
              "outlinewidth": 0,
              "ticks": ""
             }
            },
            "type": "scattermapbox"
           }
          ],
          "scatterpolar": [
           {
            "marker": {
             "colorbar": {
              "outlinewidth": 0,
              "ticks": ""
             }
            },
            "type": "scatterpolar"
           }
          ],
          "scatterpolargl": [
           {
            "marker": {
             "colorbar": {
              "outlinewidth": 0,
              "ticks": ""
             }
            },
            "type": "scatterpolargl"
           }
          ],
          "scatterternary": [
           {
            "marker": {
             "colorbar": {
              "outlinewidth": 0,
              "ticks": ""
             }
            },
            "type": "scatterternary"
           }
          ],
          "surface": [
           {
            "colorbar": {
             "outlinewidth": 0,
             "ticks": ""
            },
            "colorscale": [
             [
              0,
              "#0d0887"
             ],
             [
              0.1111111111111111,
              "#46039f"
             ],
             [
              0.2222222222222222,
              "#7201a8"
             ],
             [
              0.3333333333333333,
              "#9c179e"
             ],
             [
              0.4444444444444444,
              "#bd3786"
             ],
             [
              0.5555555555555556,
              "#d8576b"
             ],
             [
              0.6666666666666666,
              "#ed7953"
             ],
             [
              0.7777777777777778,
              "#fb9f3a"
             ],
             [
              0.8888888888888888,
              "#fdca26"
             ],
             [
              1,
              "#f0f921"
             ]
            ],
            "type": "surface"
           }
          ],
          "table": [
           {
            "cells": {
             "fill": {
              "color": "#EBF0F8"
             },
             "line": {
              "color": "white"
             }
            },
            "header": {
             "fill": {
              "color": "#C8D4E3"
             },
             "line": {
              "color": "white"
             }
            },
            "type": "table"
           }
          ]
         },
         "layout": {
          "annotationdefaults": {
           "arrowcolor": "#2a3f5f",
           "arrowhead": 0,
           "arrowwidth": 1
          },
          "coloraxis": {
           "colorbar": {
            "outlinewidth": 0,
            "ticks": ""
           }
          },
          "colorscale": {
           "diverging": [
            [
             0,
             "#8e0152"
            ],
            [
             0.1,
             "#c51b7d"
            ],
            [
             0.2,
             "#de77ae"
            ],
            [
             0.3,
             "#f1b6da"
            ],
            [
             0.4,
             "#fde0ef"
            ],
            [
             0.5,
             "#f7f7f7"
            ],
            [
             0.6,
             "#e6f5d0"
            ],
            [
             0.7,
             "#b8e186"
            ],
            [
             0.8,
             "#7fbc41"
            ],
            [
             0.9,
             "#4d9221"
            ],
            [
             1,
             "#276419"
            ]
           ],
           "sequential": [
            [
             0,
             "#0d0887"
            ],
            [
             0.1111111111111111,
             "#46039f"
            ],
            [
             0.2222222222222222,
             "#7201a8"
            ],
            [
             0.3333333333333333,
             "#9c179e"
            ],
            [
             0.4444444444444444,
             "#bd3786"
            ],
            [
             0.5555555555555556,
             "#d8576b"
            ],
            [
             0.6666666666666666,
             "#ed7953"
            ],
            [
             0.7777777777777778,
             "#fb9f3a"
            ],
            [
             0.8888888888888888,
             "#fdca26"
            ],
            [
             1,
             "#f0f921"
            ]
           ],
           "sequentialminus": [
            [
             0,
             "#0d0887"
            ],
            [
             0.1111111111111111,
             "#46039f"
            ],
            [
             0.2222222222222222,
             "#7201a8"
            ],
            [
             0.3333333333333333,
             "#9c179e"
            ],
            [
             0.4444444444444444,
             "#bd3786"
            ],
            [
             0.5555555555555556,
             "#d8576b"
            ],
            [
             0.6666666666666666,
             "#ed7953"
            ],
            [
             0.7777777777777778,
             "#fb9f3a"
            ],
            [
             0.8888888888888888,
             "#fdca26"
            ],
            [
             1,
             "#f0f921"
            ]
           ]
          },
          "colorway": [
           "#636efa",
           "#EF553B",
           "#00cc96",
           "#ab63fa",
           "#FFA15A",
           "#19d3f3",
           "#FF6692",
           "#B6E880",
           "#FF97FF",
           "#FECB52"
          ],
          "font": {
           "color": "#2a3f5f"
          },
          "geo": {
           "bgcolor": "white",
           "lakecolor": "white",
           "landcolor": "#E5ECF6",
           "showlakes": true,
           "showland": true,
           "subunitcolor": "white"
          },
          "hoverlabel": {
           "align": "left"
          },
          "hovermode": "closest",
          "mapbox": {
           "style": "light"
          },
          "paper_bgcolor": "white",
          "plot_bgcolor": "#E5ECF6",
          "polar": {
           "angularaxis": {
            "gridcolor": "white",
            "linecolor": "white",
            "ticks": ""
           },
           "bgcolor": "#E5ECF6",
           "radialaxis": {
            "gridcolor": "white",
            "linecolor": "white",
            "ticks": ""
           }
          },
          "scene": {
           "xaxis": {
            "backgroundcolor": "#E5ECF6",
            "gridcolor": "white",
            "gridwidth": 2,
            "linecolor": "white",
            "showbackground": true,
            "ticks": "",
            "zerolinecolor": "white"
           },
           "yaxis": {
            "backgroundcolor": "#E5ECF6",
            "gridcolor": "white",
            "gridwidth": 2,
            "linecolor": "white",
            "showbackground": true,
            "ticks": "",
            "zerolinecolor": "white"
           },
           "zaxis": {
            "backgroundcolor": "#E5ECF6",
            "gridcolor": "white",
            "gridwidth": 2,
            "linecolor": "white",
            "showbackground": true,
            "ticks": "",
            "zerolinecolor": "white"
           }
          },
          "shapedefaults": {
           "line": {
            "color": "#2a3f5f"
           }
          },
          "ternary": {
           "aaxis": {
            "gridcolor": "white",
            "linecolor": "white",
            "ticks": ""
           },
           "baxis": {
            "gridcolor": "white",
            "linecolor": "white",
            "ticks": ""
           },
           "bgcolor": "#E5ECF6",
           "caxis": {
            "gridcolor": "white",
            "linecolor": "white",
            "ticks": ""
           }
          },
          "title": {
           "x": 0.05
          },
          "xaxis": {
           "automargin": true,
           "gridcolor": "white",
           "linecolor": "white",
           "ticks": "",
           "title": {
            "standoff": 15
           },
           "zerolinecolor": "white",
           "zerolinewidth": 2
          },
          "yaxis": {
           "automargin": true,
           "gridcolor": "white",
           "linecolor": "white",
           "ticks": "",
           "title": {
            "standoff": 15
           },
           "zerolinecolor": "white",
           "zerolinewidth": 2
          }
         }
        }
       }
      },
      "text/html": [
       "<div>                            <div id=\"652026b9-57f9-437c-9981-f22f51bece31\" class=\"plotly-graph-div\" style=\"height:525px; width:100%;\"></div>            <script type=\"text/javascript\">                require([\"plotly\"], function(Plotly) {                    window.PLOTLYENV=window.PLOTLYENV || {};                                    if (document.getElementById(\"652026b9-57f9-437c-9981-f22f51bece31\")) {                    Plotly.newPlot(                        \"652026b9-57f9-437c-9981-f22f51bece31\",                        [{\"cells\": {\"align\": \"center\", \"fill\": {\"color\": \"lightgray\"}, \"line\": {\"color\": \"darkslategray\"}, \"values\": [[\"Total Poulation\", \"100%   30141\", \"100%   25486\", \"100%   30256\", \"100%   85883\"], [\"Opportunity Youth\", \"6.0%   1815\", \"15.3%   3902\", \"16.2%   4897\", \"12.4%   10614\"], [\"Working Without Diploma\", \"8.8%   2655\", \"4.1%   1045\", \"3.0%   914\", \"5.4%   4614\"], [\"Not an Opportunity Youth\", \"85.2%   25671\", \"80.6%   20539\", \"80.8%   24445\", \"82.3%   70655\"]]}, \"header\": {\"align\": \"center\", \"fill\": {\"color\": \"lightblue\"}, \"line\": {\"color\": \"darkslategray\"}, \"values\": [\" test \", \"16-18\", \"19-21\", \"22-24\", \"Totals\"]}, \"type\": \"table\"}],                        {\"template\": {\"data\": {\"bar\": [{\"error_x\": {\"color\": \"#2a3f5f\"}, \"error_y\": {\"color\": \"#2a3f5f\"}, \"marker\": {\"line\": {\"color\": \"#E5ECF6\", \"width\": 0.5}}, \"type\": \"bar\"}], \"barpolar\": [{\"marker\": {\"line\": {\"color\": \"#E5ECF6\", \"width\": 0.5}}, \"type\": \"barpolar\"}], \"carpet\": [{\"aaxis\": {\"endlinecolor\": \"#2a3f5f\", \"gridcolor\": \"white\", \"linecolor\": \"white\", \"minorgridcolor\": \"white\", \"startlinecolor\": \"#2a3f5f\"}, \"baxis\": {\"endlinecolor\": \"#2a3f5f\", \"gridcolor\": \"white\", \"linecolor\": \"white\", \"minorgridcolor\": \"white\", \"startlinecolor\": \"#2a3f5f\"}, \"type\": \"carpet\"}], \"choropleth\": [{\"colorbar\": {\"outlinewidth\": 0, \"ticks\": \"\"}, \"type\": \"choropleth\"}], \"contour\": [{\"colorbar\": {\"outlinewidth\": 0, \"ticks\": \"\"}, \"colorscale\": [[0.0, \"#0d0887\"], [0.1111111111111111, \"#46039f\"], [0.2222222222222222, \"#7201a8\"], [0.3333333333333333, \"#9c179e\"], [0.4444444444444444, \"#bd3786\"], [0.5555555555555556, \"#d8576b\"], [0.6666666666666666, \"#ed7953\"], [0.7777777777777778, \"#fb9f3a\"], [0.8888888888888888, \"#fdca26\"], [1.0, \"#f0f921\"]], \"type\": \"contour\"}], \"contourcarpet\": [{\"colorbar\": {\"outlinewidth\": 0, \"ticks\": \"\"}, \"type\": \"contourcarpet\"}], \"heatmap\": [{\"colorbar\": {\"outlinewidth\": 0, \"ticks\": \"\"}, \"colorscale\": [[0.0, \"#0d0887\"], [0.1111111111111111, \"#46039f\"], [0.2222222222222222, \"#7201a8\"], [0.3333333333333333, \"#9c179e\"], [0.4444444444444444, \"#bd3786\"], [0.5555555555555556, \"#d8576b\"], [0.6666666666666666, \"#ed7953\"], [0.7777777777777778, \"#fb9f3a\"], [0.8888888888888888, \"#fdca26\"], [1.0, \"#f0f921\"]], \"type\": \"heatmap\"}], \"heatmapgl\": [{\"colorbar\": {\"outlinewidth\": 0, \"ticks\": \"\"}, \"colorscale\": [[0.0, \"#0d0887\"], [0.1111111111111111, \"#46039f\"], [0.2222222222222222, \"#7201a8\"], [0.3333333333333333, \"#9c179e\"], [0.4444444444444444, \"#bd3786\"], [0.5555555555555556, \"#d8576b\"], [0.6666666666666666, \"#ed7953\"], [0.7777777777777778, \"#fb9f3a\"], [0.8888888888888888, \"#fdca26\"], [1.0, \"#f0f921\"]], \"type\": \"heatmapgl\"}], \"histogram\": [{\"marker\": {\"colorbar\": {\"outlinewidth\": 0, \"ticks\": \"\"}}, \"type\": \"histogram\"}], \"histogram2d\": [{\"colorbar\": {\"outlinewidth\": 0, \"ticks\": \"\"}, \"colorscale\": [[0.0, \"#0d0887\"], [0.1111111111111111, \"#46039f\"], [0.2222222222222222, \"#7201a8\"], [0.3333333333333333, \"#9c179e\"], [0.4444444444444444, \"#bd3786\"], [0.5555555555555556, \"#d8576b\"], [0.6666666666666666, \"#ed7953\"], [0.7777777777777778, \"#fb9f3a\"], [0.8888888888888888, \"#fdca26\"], [1.0, \"#f0f921\"]], \"type\": \"histogram2d\"}], \"histogram2dcontour\": [{\"colorbar\": {\"outlinewidth\": 0, \"ticks\": \"\"}, \"colorscale\": [[0.0, \"#0d0887\"], [0.1111111111111111, \"#46039f\"], [0.2222222222222222, \"#7201a8\"], [0.3333333333333333, \"#9c179e\"], [0.4444444444444444, \"#bd3786\"], [0.5555555555555556, \"#d8576b\"], [0.6666666666666666, \"#ed7953\"], [0.7777777777777778, \"#fb9f3a\"], [0.8888888888888888, \"#fdca26\"], [1.0, \"#f0f921\"]], \"type\": \"histogram2dcontour\"}], \"mesh3d\": [{\"colorbar\": {\"outlinewidth\": 0, \"ticks\": \"\"}, \"type\": \"mesh3d\"}], \"parcoords\": [{\"line\": {\"colorbar\": {\"outlinewidth\": 0, \"ticks\": \"\"}}, \"type\": \"parcoords\"}], \"pie\": [{\"automargin\": true, \"type\": \"pie\"}], \"scatter\": [{\"marker\": {\"colorbar\": {\"outlinewidth\": 0, \"ticks\": \"\"}}, \"type\": \"scatter\"}], \"scatter3d\": [{\"line\": {\"colorbar\": {\"outlinewidth\": 0, \"ticks\": \"\"}}, \"marker\": {\"colorbar\": {\"outlinewidth\": 0, \"ticks\": \"\"}}, \"type\": \"scatter3d\"}], \"scattercarpet\": [{\"marker\": {\"colorbar\": {\"outlinewidth\": 0, \"ticks\": \"\"}}, \"type\": \"scattercarpet\"}], \"scattergeo\": [{\"marker\": {\"colorbar\": {\"outlinewidth\": 0, \"ticks\": \"\"}}, \"type\": \"scattergeo\"}], \"scattergl\": [{\"marker\": {\"colorbar\": {\"outlinewidth\": 0, \"ticks\": \"\"}}, \"type\": \"scattergl\"}], \"scattermapbox\": [{\"marker\": {\"colorbar\": {\"outlinewidth\": 0, \"ticks\": \"\"}}, \"type\": \"scattermapbox\"}], \"scatterpolar\": [{\"marker\": {\"colorbar\": {\"outlinewidth\": 0, \"ticks\": \"\"}}, \"type\": \"scatterpolar\"}], \"scatterpolargl\": [{\"marker\": {\"colorbar\": {\"outlinewidth\": 0, \"ticks\": \"\"}}, \"type\": \"scatterpolargl\"}], \"scatterternary\": [{\"marker\": {\"colorbar\": {\"outlinewidth\": 0, \"ticks\": \"\"}}, \"type\": \"scatterternary\"}], \"surface\": [{\"colorbar\": {\"outlinewidth\": 0, \"ticks\": \"\"}, \"colorscale\": [[0.0, \"#0d0887\"], [0.1111111111111111, \"#46039f\"], [0.2222222222222222, \"#7201a8\"], [0.3333333333333333, \"#9c179e\"], [0.4444444444444444, \"#bd3786\"], [0.5555555555555556, \"#d8576b\"], [0.6666666666666666, \"#ed7953\"], [0.7777777777777778, \"#fb9f3a\"], [0.8888888888888888, \"#fdca26\"], [1.0, \"#f0f921\"]], \"type\": \"surface\"}], \"table\": [{\"cells\": {\"fill\": {\"color\": \"#EBF0F8\"}, \"line\": {\"color\": \"white\"}}, \"header\": {\"fill\": {\"color\": \"#C8D4E3\"}, \"line\": {\"color\": \"white\"}}, \"type\": \"table\"}]}, \"layout\": {\"annotationdefaults\": {\"arrowcolor\": \"#2a3f5f\", \"arrowhead\": 0, \"arrowwidth\": 1}, \"coloraxis\": {\"colorbar\": {\"outlinewidth\": 0, \"ticks\": \"\"}}, \"colorscale\": {\"diverging\": [[0, \"#8e0152\"], [0.1, \"#c51b7d\"], [0.2, \"#de77ae\"], [0.3, \"#f1b6da\"], [0.4, \"#fde0ef\"], [0.5, \"#f7f7f7\"], [0.6, \"#e6f5d0\"], [0.7, \"#b8e186\"], [0.8, \"#7fbc41\"], [0.9, \"#4d9221\"], [1, \"#276419\"]], \"sequential\": [[0.0, \"#0d0887\"], [0.1111111111111111, \"#46039f\"], [0.2222222222222222, \"#7201a8\"], [0.3333333333333333, \"#9c179e\"], [0.4444444444444444, \"#bd3786\"], [0.5555555555555556, \"#d8576b\"], [0.6666666666666666, \"#ed7953\"], [0.7777777777777778, \"#fb9f3a\"], [0.8888888888888888, \"#fdca26\"], [1.0, \"#f0f921\"]], \"sequentialminus\": [[0.0, \"#0d0887\"], [0.1111111111111111, \"#46039f\"], [0.2222222222222222, \"#7201a8\"], [0.3333333333333333, \"#9c179e\"], [0.4444444444444444, \"#bd3786\"], [0.5555555555555556, \"#d8576b\"], [0.6666666666666666, \"#ed7953\"], [0.7777777777777778, \"#fb9f3a\"], [0.8888888888888888, \"#fdca26\"], [1.0, \"#f0f921\"]]}, \"colorway\": [\"#636efa\", \"#EF553B\", \"#00cc96\", \"#ab63fa\", \"#FFA15A\", \"#19d3f3\", \"#FF6692\", \"#B6E880\", \"#FF97FF\", \"#FECB52\"], \"font\": {\"color\": \"#2a3f5f\"}, \"geo\": {\"bgcolor\": \"white\", \"lakecolor\": \"white\", \"landcolor\": \"#E5ECF6\", \"showlakes\": true, \"showland\": true, \"subunitcolor\": \"white\"}, \"hoverlabel\": {\"align\": \"left\"}, \"hovermode\": \"closest\", \"mapbox\": {\"style\": \"light\"}, \"paper_bgcolor\": \"white\", \"plot_bgcolor\": \"#E5ECF6\", \"polar\": {\"angularaxis\": {\"gridcolor\": \"white\", \"linecolor\": \"white\", \"ticks\": \"\"}, \"bgcolor\": \"#E5ECF6\", \"radialaxis\": {\"gridcolor\": \"white\", \"linecolor\": \"white\", \"ticks\": \"\"}}, \"scene\": {\"xaxis\": {\"backgroundcolor\": \"#E5ECF6\", \"gridcolor\": \"white\", \"gridwidth\": 2, \"linecolor\": \"white\", \"showbackground\": true, \"ticks\": \"\", \"zerolinecolor\": \"white\"}, \"yaxis\": {\"backgroundcolor\": \"#E5ECF6\", \"gridcolor\": \"white\", \"gridwidth\": 2, \"linecolor\": \"white\", \"showbackground\": true, \"ticks\": \"\", \"zerolinecolor\": \"white\"}, \"zaxis\": {\"backgroundcolor\": \"#E5ECF6\", \"gridcolor\": \"white\", \"gridwidth\": 2, \"linecolor\": \"white\", \"showbackground\": true, \"ticks\": \"\", \"zerolinecolor\": \"white\"}}, \"shapedefaults\": {\"line\": {\"color\": \"#2a3f5f\"}}, \"ternary\": {\"aaxis\": {\"gridcolor\": \"white\", \"linecolor\": \"white\", \"ticks\": \"\"}, \"baxis\": {\"gridcolor\": \"white\", \"linecolor\": \"white\", \"ticks\": \"\"}, \"bgcolor\": \"#E5ECF6\", \"caxis\": {\"gridcolor\": \"white\", \"linecolor\": \"white\", \"ticks\": \"\"}}, \"title\": {\"x\": 0.05}, \"xaxis\": {\"automargin\": true, \"gridcolor\": \"white\", \"linecolor\": \"white\", \"ticks\": \"\", \"title\": {\"standoff\": 15}, \"zerolinecolor\": \"white\", \"zerolinewidth\": 2}, \"yaxis\": {\"automargin\": true, \"gridcolor\": \"white\", \"linecolor\": \"white\", \"ticks\": \"\", \"title\": {\"standoff\": 15}, \"zerolinecolor\": \"white\", \"zerolinewidth\": 2}}}},                        {\"responsive\": true}                    ).then(function(){\n",
       "                            \n",
       "var gd = document.getElementById('652026b9-57f9-437c-9981-f22f51bece31');\n",
       "var x = new MutationObserver(function (mutations, observer) {{\n",
       "        var display = window.getComputedStyle(gd).display;\n",
       "        if (!display || display === 'none') {{\n",
       "            console.log([gd, 'removed!']);\n",
       "            Plotly.purge(gd);\n",
       "            observer.disconnect();\n",
       "        }}\n",
       "}});\n",
       "\n",
       "// Listen for the removal of the full notebook cells\n",
       "var notebookContainer = gd.closest('#notebook-container');\n",
       "if (notebookContainer) {{\n",
       "    x.observe(notebookContainer, {childList: true});\n",
       "}}\n",
       "\n",
       "// Listen for the clearing of the current output cell\n",
       "var outputEl = gd.closest('.output');\n",
       "if (outputEl) {{\n",
       "    x.observe(outputEl, {childList: true});\n",
       "}}\n",
       "\n",
       "                        })                };                });            </script>        </div>"
      ]
     },
     "metadata": {},
     "output_type": "display_data"
    }
   ],
   "source": [
    "import plotly.graph_objects as go\n",
    "\n",
    "fig = go.Figure(data=[go.Table(header=dict(values= age_range_labels, line_color='darkslategray', fill_color = 'lightblue', align='center'),\n",
    "                                cells=dict(values= tpop_cell_text, line_color='darkslategray', fill_color='lightgray', align='center'))])\n",
    "\n",
    "\n",
    "fig.show()"
   ]
  },
  {
   "cell_type": "code",
   "execution_count": 79,
   "metadata": {},
   "outputs": [
    {
     "ename": "AttributeError",
     "evalue": "'Table' object has no attribute 'get_xaxis'",
     "output_type": "error",
     "traceback": [
      "\u001b[0;31m---------------------------------------------------------------------------\u001b[0m",
      "\u001b[0;31mAttributeError\u001b[0m                            Traceback (most recent call last)",
      "\u001b[0;32m<ipython-input-79-c65219290322>\u001b[0m in \u001b[0;36m<module>\u001b[0;34m\u001b[0m\n\u001b[1;32m      3\u001b[0m                       \u001b[0mcolLabels\u001b[0m\u001b[0;34m=\u001b[0m\u001b[0mage_range_labels\u001b[0m\u001b[0;34m,\u001b[0m\u001b[0;34m\u001b[0m\u001b[0;34m\u001b[0m\u001b[0m\n\u001b[1;32m      4\u001b[0m                       loc='bottom')\n\u001b[0;32m----> 5\u001b[0;31m \u001b[0mtpop_ax\u001b[0m\u001b[0;34m.\u001b[0m\u001b[0mget_xaxis\u001b[0m\u001b[0;34m(\u001b[0m\u001b[0;34m)\u001b[0m\u001b[0;34m.\u001b[0m\u001b[0mset_visible\u001b[0m\u001b[0;34m(\u001b[0m\u001b[0;32mFalse\u001b[0m\u001b[0;34m)\u001b[0m\u001b[0;34m\u001b[0m\u001b[0;34m\u001b[0m\u001b[0m\n\u001b[0m\u001b[1;32m      6\u001b[0m \u001b[0mtpop_ax\u001b[0m\u001b[0;34m.\u001b[0m\u001b[0mget_yaxis\u001b[0m\u001b[0;34m(\u001b[0m\u001b[0;34m)\u001b[0m\u001b[0;34m.\u001b[0m\u001b[0mset_visible\u001b[0m\u001b[0;34m(\u001b[0m\u001b[0;32mFalse\u001b[0m\u001b[0;34m)\u001b[0m\u001b[0;34m\u001b[0m\u001b[0;34m\u001b[0m\u001b[0m\n",
      "\u001b[0;31mAttributeError\u001b[0m: 'Table' object has no attribute 'get_xaxis'"
     ]
    },
    {
     "data": {
      "image/png": "[encoded data removed]",
      "text/plain": [
       "<Figure size 432x288 with 1 Axes>"
      ]
     },
     "metadata": {
      "needs_background": "light"
     },
     "output_type": "display_data"
    }
   ],
   "source": [
    "tpop_ax = plt.table(cellText = tpop_cell_text,\n",
    "                      rowLabels=tpop_rows,\n",
    "                      colLabels=age_range_labels,\n",
    "                      loc='bottom', title)\n",
    "tpop_ax.get_xaxis().set_visible(False)\n",
    "tpop_ax.get_yaxis().set_visible(False)"
   ]
  },
  {
   "cell_type": "code",
   "execution_count": null,
   "metadata": {},
   "outputs": [],
   "source": []
  }
 ],
 "metadata": {
  "kernelspec": {
   "display_name": "Python 3 (oy-env)",
   "language": "python",
   "name": "oy-env"
  },
  "language_info": {
   "codemirror_mode": {
    "name": "ipython",
    "version": 3
   },
   "file_extension": ".py",
   "mimetype": "text/x-python",
   "name": "python",
   "nbconvert_exporter": "python",
   "pygments_lexer": "ipython3",
   "version": "3.8.1"
  }
 },
 "nbformat": 4,
 "nbformat_minor": 4
}
